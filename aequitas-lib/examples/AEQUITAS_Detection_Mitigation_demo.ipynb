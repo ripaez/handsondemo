{
 "cells": [
  {
   "cell_type": "markdown",
   "metadata": {},
   "source": [
    "<h1> HEADER </h1>"
   ]
  },
  {
   "cell_type": "markdown",
   "metadata": {},
   "source": [
    "<h3> Libraries </h3>"
   ]
  },
  {
   "cell_type": "code",
   "execution_count": 2,
   "metadata": {
    "collapsed": false
   },
   "outputs": [],
   "source": [
    "import sys\n",
    "sys.path.append(\"../\")"
   ]
  },
  {
   "cell_type": "code",
   "execution_count": 3,
   "metadata": {
    "collapsed": false
   },
   "outputs": [],
   "source": [
    "import numpy as np\n",
    "import pandas as pd\n",
    "pd.set_option('display.width', 500)\n",
    "from aequitas.engine import Aequitas, NpEncoder\n",
    "import aequitas.tools.data_manip as dm\n",
    "import aequitas.tools as tools\n",
    "from aequitas.gateway import Gateway"
   ]
  },
  {
   "cell_type": "markdown",
   "metadata": {},
   "source": [
    "<h3> Importing the dataset </h3>"
   ]
  },
  {
   "cell_type": "code",
   "execution_count": 5,
   "metadata": {
    "ExecuteTime": {
     "end_time": "2023-10-15T20:22:55.466902Z",
     "start_time": "2023-10-15T20:22:55.360907Z"
    }
   },
   "outputs": [],
   "source": [
    "dataset_name=\"IT_candidates.csv\"\n",
    "dataset_directory=\"../datasets/\"+dataset_name\n",
    "dataset = pd.read_csv(dataset_directory)"
   ]
  },
  {
   "cell_type": "markdown",
   "metadata": {},
   "source": [
    "<h3> Dataset pre-processing </h3>"
   ]
  },
  {
   "cell_type": "code",
   "execution_count": 17,
   "metadata": {
    "ExecuteTime": {
     "end_time": "2023-10-15T20:23:03.132898Z",
     "start_time": "2023-10-15T20:23:03.022402Z"
    }
   },
   "outputs": [],
   "source": [
    "# Dataset already preprocessed for missing values|\n",
    "dataset.drop(columns=dataset.columns[0],inplace=True)"
   ]
  },
  {
   "cell_type": "markdown",
   "metadata": {},
   "source": [
    "<h3> Examples of used of the AEQUITAS object </h3>"
   ]
  },
  {
   "cell_type": "code",
   "execution_count": 26,
   "metadata": {
    "ExecuteTime": {
     "end_time": "2023-10-15T20:23:11.225443Z",
     "start_time": "2023-10-15T20:23:11.143450Z"
    }
   },
   "outputs": [
    {
     "name": "stdout",
     "output_type": "stream",
     "text": [
      "Dataset:\n",
      "        Column Name Data Type Column Type (suggestion)  Number_Values                                           Values\n",
      "0               Age      text                   Binary              2                                       [<35, >35]\n",
      "1     Accessibility      text                   Binary              2                                        [No, Yes]\n",
      "2           EdLevel      text      Categorical/Ordinal              5  [Master, Undergraduate, PhD, Other, NoHigherEd]\n",
      "3        Employment   float64                   Binary              2                                       [1.0, 0.0]\n",
      "4            Gender      text      Categorical/Ordinal              3                          [Man, Woman, NonBinary]\n",
      "..              ...       ...                      ...            ...                                              ...\n",
      "124  Play Framework   float64                   Binary              2                                       [0.0, 1.0]\n",
      "125         Phoenix   float64                   Binary              2                                       [0.0, 1.0]\n",
      "126           OCaml   float64                   Binary              2                                       [0.0, 1.0]\n",
      "127      Colocation   float64                   Binary              2                                       [0.0, 1.0]\n",
      "128        Solidity   float64                   Binary              2                                       [0.0, 1.0]\n",
      "\n",
      "[129 rows x 5 columns]\n"
     ]
    }
   ],
   "source": [
    "# Empty parameters file (Example 1)\n",
    "parameters={ }\n",
    "Aeq_dataset=Aequitas(dataset,parameters)\n",
    "Aeq_dataset.structure(verbose=True)"
   ]
  },
  {
   "cell_type": "code",
   "execution_count": 27,
   "metadata": {},
   "outputs": [
    {
     "data": {
      "text/plain": [
       "Index(['Age', 'Accessibility', 'EdLevel', 'Employment', 'Gender', 'MentalHealth', 'MainBranch', 'YearsCode', 'YearsCodePro', 'Country', 'PreviousSalary', 'ComputerSkills', 'Employed'], dtype='object')"
      ]
     },
     "execution_count": 27,
     "metadata": {},
     "output_type": "execute_result"
    }
   ],
   "source": [
    "dataset.columns[:13]"
   ]
  },
  {
   "cell_type": "code",
   "execution_count": 28,
   "metadata": {
    "ExecuteTime": {
     "end_time": "2023-10-15T20:23:12.648974Z",
     "start_time": "2023-10-15T20:23:12.624375Z"
    }
   },
   "outputs": [
    {
     "name": "stdout",
     "output_type": "stream",
     "text": [
      "Proportions: (Employed)\n",
      "              0\n",
      "True   0.536721\n",
      "False  0.463279\n",
      "\n"
     ]
    }
   ],
   "source": [
    "#Basic parameters file (Example 2)\n",
    "parameters={\n",
    "    \"class_attribute\":{\n",
    "        \"name\": 'Employed',\n",
    "    },\n",
    "}\n",
    "Aeq_dataset=Aequitas(dataset,parameters)\n",
    "Aeq_dataset.descriptive_stats(verbose=True)"
   ]
  },
  {
   "cell_type": "code",
   "execution_count": 38,
   "metadata": {
    "ExecuteTime": {
     "end_time": "2023-10-15T20:23:13.900939Z",
     "start_time": "2023-10-15T20:23:13.535939Z"
    }
   },
   "outputs": [
    {
     "name": "stdout",
     "output_type": "stream",
     "text": [
      "Proportions: (Employed)\n",
      "              0\n",
      "True   0.536721\n",
      "False  0.463279\n",
      "\n",
      "Proportions: (Gender)\n",
      "                  0\n",
      "Man        0.933539\n",
      "Woman      0.047794\n",
      "NonBinary  0.018668\n",
      "\n",
      "Proportions: (Age)\n",
      "            0\n",
      "<35  0.650949\n",
      ">35  0.349051\n",
      "\n",
      "Outcome distribution by group:\n",
      "              True      False\n",
      "Man        0.541235  0.458765\n",
      "NonBinary  0.533966  0.466034\n",
      "Woman      0.449643  0.550357\n",
      "\n",
      "Outcome distribution by group:\n",
      "        True      False\n",
      "<35  0.547803  0.452197\n",
      ">35  0.516056  0.483944\n",
      "\n",
      "\n",
      "Association between Gender and Age.\n",
      "Contingency Table:\n",
      "Age          <35    >35\n",
      "Gender                 \n",
      "Man        44273  24189\n",
      "NonBinary    895    474\n",
      "Woman       2570    935\n",
      "\n",
      "Chi-squared statistic: 109.99624855978593\n",
      "Cramer's V: 0.03837502151091483\n",
      "Degrees of Freedom: 2\n",
      "p-value: 1.3020213636227068e-24\n",
      "There is a statistically significant association between Gender and Age.\n",
      "\n",
      "Association between Gender and Employed.\n",
      "Contingency Table:\n",
      "Employed   False  True \n",
      "Gender                 \n",
      "Man        31408  37054\n",
      "NonBinary    638    731\n",
      "Woman       1929   1576\n",
      "\n",
      "Chi-squared statistic: 112.53426923442824\n",
      "Cramer's V: 0.038823328840361736\n",
      "Degrees of Freedom: 2\n",
      "p-value: 3.6601081920180026e-25\n",
      "There is a statistically significant association between Gender and Employed.\n",
      "\n",
      "Association between Age and Employed.\n",
      "Contingency Table:\n",
      "Employed  False  True \n",
      "Age                   \n",
      "<35       21587  26151\n",
      ">35       12388  13210\n",
      "\n",
      "Chi-squared statistic: 67.41185028404158\n",
      "Cramer's V: 0.030093111715907988\n",
      "Degrees of Freedom: 1\n",
      "p-value: 2.2032070239485714e-16\n",
      "There is a statistically significant association between Age and Employed.\n",
      "Mutual Information between Gender and Age: 0.0007814659211559868\n",
      "Mutual Information between Gender and Employed: 0.000764735980150498\n",
      "Mutual Information between Age and Employed: 0.0004601457561739797\n"
     ]
    }
   ],
   "source": [
    "# A parameters file without any expectations of privileged groups  (Example 3)\n",
    "# but with two possible tasks at hand: a classification task over 'Employed' and a regression task over 'PreviousSalary' (To Do)\n",
    "parameters={\n",
    "    \"class_attribute\":{\n",
    "        \"name\": 'Employed',\n",
    "        \"positive_value\":'True'\n",
    "    },\n",
    "    \"sensitive_attributes\":\n",
    "    [\n",
    "        {\n",
    "            \"name\": 'Gender',\n",
    "        },\n",
    "        {\n",
    "            \"name\": 'Age',\n",
    "        }\n",
    "    ]\n",
    "}\n",
    "Aeq_dataset=Aequitas(dataset,parameters)\n",
    "Aeq_dataset.descriptive_stats(verbose=True)"
   ]
  },
  {
   "cell_type": "code",
   "execution_count": 39,
   "metadata": {
    "ExecuteTime": {
     "end_time": "2023-10-15T20:55:26.051283Z",
     "start_time": "2023-10-15T20:55:23.956287Z"
    },
    "collapsed": false
   },
   "outputs": [
    {
     "ename": "ConnectionError",
     "evalue": "HTTPConnectionPool(host='localhost', port=6060): Max retries exceeded with url: /project/demonstrator/data/dataset/0 (Caused by NewConnectionError('<urllib3.connection.HTTPConnection object at 0x7f9633143b10>: Failed to establish a new connection: [Errno 111] Connection refused'))",
     "output_type": "error",
     "traceback": [
      "\u001b[0;31m---------------------------------------------------------------------------\u001b[0m",
      "\u001b[0;31mConnectionRefusedError\u001b[0m                    Traceback (most recent call last)",
      "File \u001b[0;32m~/miniconda3/envs/demo/lib/python3.11/site-packages/urllib3/connection.py:203\u001b[0m, in \u001b[0;36mHTTPConnection._new_conn\u001b[0;34m(self)\u001b[0m\n\u001b[1;32m    202\u001b[0m \u001b[39mtry\u001b[39;00m:\n\u001b[0;32m--> 203\u001b[0m     sock \u001b[39m=\u001b[39m connection\u001b[39m.\u001b[39;49mcreate_connection(\n\u001b[1;32m    204\u001b[0m         (\u001b[39mself\u001b[39;49m\u001b[39m.\u001b[39;49m_dns_host, \u001b[39mself\u001b[39;49m\u001b[39m.\u001b[39;49mport),\n\u001b[1;32m    205\u001b[0m         \u001b[39mself\u001b[39;49m\u001b[39m.\u001b[39;49mtimeout,\n\u001b[1;32m    206\u001b[0m         source_address\u001b[39m=\u001b[39;49m\u001b[39mself\u001b[39;49m\u001b[39m.\u001b[39;49msource_address,\n\u001b[1;32m    207\u001b[0m         socket_options\u001b[39m=\u001b[39;49m\u001b[39mself\u001b[39;49m\u001b[39m.\u001b[39;49msocket_options,\n\u001b[1;32m    208\u001b[0m     )\n\u001b[1;32m    209\u001b[0m \u001b[39mexcept\u001b[39;00m socket\u001b[39m.\u001b[39mgaierror \u001b[39mas\u001b[39;00m e:\n",
      "File \u001b[0;32m~/miniconda3/envs/demo/lib/python3.11/site-packages/urllib3/util/connection.py:85\u001b[0m, in \u001b[0;36mcreate_connection\u001b[0;34m(address, timeout, source_address, socket_options)\u001b[0m\n\u001b[1;32m     84\u001b[0m \u001b[39mtry\u001b[39;00m:\n\u001b[0;32m---> 85\u001b[0m     \u001b[39mraise\u001b[39;00m err\n\u001b[1;32m     86\u001b[0m \u001b[39mfinally\u001b[39;00m:\n\u001b[1;32m     87\u001b[0m     \u001b[39m# Break explicitly a reference cycle\u001b[39;00m\n",
      "File \u001b[0;32m~/miniconda3/envs/demo/lib/python3.11/site-packages/urllib3/util/connection.py:73\u001b[0m, in \u001b[0;36mcreate_connection\u001b[0;34m(address, timeout, source_address, socket_options)\u001b[0m\n\u001b[1;32m     72\u001b[0m     sock\u001b[39m.\u001b[39mbind(source_address)\n\u001b[0;32m---> 73\u001b[0m sock\u001b[39m.\u001b[39;49mconnect(sa)\n\u001b[1;32m     74\u001b[0m \u001b[39m# Break explicitly a reference cycle\u001b[39;00m\n",
      "\u001b[0;31mConnectionRefusedError\u001b[0m: [Errno 111] Connection refused",
      "\nThe above exception was the direct cause of the following exception:\n",
      "\u001b[0;31mNewConnectionError\u001b[0m                        Traceback (most recent call last)",
      "File \u001b[0;32m~/miniconda3/envs/demo/lib/python3.11/site-packages/urllib3/connectionpool.py:790\u001b[0m, in \u001b[0;36mHTTPConnectionPool.urlopen\u001b[0;34m(self, method, url, body, headers, retries, redirect, assert_same_host, timeout, pool_timeout, release_conn, chunked, body_pos, preload_content, decode_content, **response_kw)\u001b[0m\n\u001b[1;32m    789\u001b[0m \u001b[39m# Make the request on the HTTPConnection object\u001b[39;00m\n\u001b[0;32m--> 790\u001b[0m response \u001b[39m=\u001b[39m \u001b[39mself\u001b[39;49m\u001b[39m.\u001b[39;49m_make_request(\n\u001b[1;32m    791\u001b[0m     conn,\n\u001b[1;32m    792\u001b[0m     method,\n\u001b[1;32m    793\u001b[0m     url,\n\u001b[1;32m    794\u001b[0m     timeout\u001b[39m=\u001b[39;49mtimeout_obj,\n\u001b[1;32m    795\u001b[0m     body\u001b[39m=\u001b[39;49mbody,\n\u001b[1;32m    796\u001b[0m     headers\u001b[39m=\u001b[39;49mheaders,\n\u001b[1;32m    797\u001b[0m     chunked\u001b[39m=\u001b[39;49mchunked,\n\u001b[1;32m    798\u001b[0m     retries\u001b[39m=\u001b[39;49mretries,\n\u001b[1;32m    799\u001b[0m     response_conn\u001b[39m=\u001b[39;49mresponse_conn,\n\u001b[1;32m    800\u001b[0m     preload_content\u001b[39m=\u001b[39;49mpreload_content,\n\u001b[1;32m    801\u001b[0m     decode_content\u001b[39m=\u001b[39;49mdecode_content,\n\u001b[1;32m    802\u001b[0m     \u001b[39m*\u001b[39;49m\u001b[39m*\u001b[39;49mresponse_kw,\n\u001b[1;32m    803\u001b[0m )\n\u001b[1;32m    805\u001b[0m \u001b[39m# Everything went great!\u001b[39;00m\n",
      "File \u001b[0;32m~/miniconda3/envs/demo/lib/python3.11/site-packages/urllib3/connectionpool.py:496\u001b[0m, in \u001b[0;36mHTTPConnectionPool._make_request\u001b[0;34m(self, conn, method, url, body, headers, retries, timeout, chunked, response_conn, preload_content, decode_content, enforce_content_length)\u001b[0m\n\u001b[1;32m    495\u001b[0m \u001b[39mtry\u001b[39;00m:\n\u001b[0;32m--> 496\u001b[0m     conn\u001b[39m.\u001b[39;49mrequest(\n\u001b[1;32m    497\u001b[0m         method,\n\u001b[1;32m    498\u001b[0m         url,\n\u001b[1;32m    499\u001b[0m         body\u001b[39m=\u001b[39;49mbody,\n\u001b[1;32m    500\u001b[0m         headers\u001b[39m=\u001b[39;49mheaders,\n\u001b[1;32m    501\u001b[0m         chunked\u001b[39m=\u001b[39;49mchunked,\n\u001b[1;32m    502\u001b[0m         preload_content\u001b[39m=\u001b[39;49mpreload_content,\n\u001b[1;32m    503\u001b[0m         decode_content\u001b[39m=\u001b[39;49mdecode_content,\n\u001b[1;32m    504\u001b[0m         enforce_content_length\u001b[39m=\u001b[39;49menforce_content_length,\n\u001b[1;32m    505\u001b[0m     )\n\u001b[1;32m    507\u001b[0m \u001b[39m# We are swallowing BrokenPipeError (errno.EPIPE) since the server is\u001b[39;00m\n\u001b[1;32m    508\u001b[0m \u001b[39m# legitimately able to close the connection after sending a valid response.\u001b[39;00m\n\u001b[1;32m    509\u001b[0m \u001b[39m# With this behaviour, the received response is still readable.\u001b[39;00m\n",
      "File \u001b[0;32m~/miniconda3/envs/demo/lib/python3.11/site-packages/urllib3/connection.py:395\u001b[0m, in \u001b[0;36mHTTPConnection.request\u001b[0;34m(self, method, url, body, headers, chunked, preload_content, decode_content, enforce_content_length)\u001b[0m\n\u001b[1;32m    394\u001b[0m     \u001b[39mself\u001b[39m\u001b[39m.\u001b[39mputheader(header, value)\n\u001b[0;32m--> 395\u001b[0m \u001b[39mself\u001b[39;49m\u001b[39m.\u001b[39;49mendheaders()\n\u001b[1;32m    397\u001b[0m \u001b[39m# If we're given a body we start sending that in chunks.\u001b[39;00m\n",
      "File \u001b[0;32m~/miniconda3/envs/demo/lib/python3.11/http/client.py:1281\u001b[0m, in \u001b[0;36mHTTPConnection.endheaders\u001b[0;34m(self, message_body, encode_chunked)\u001b[0m\n\u001b[1;32m   1280\u001b[0m     \u001b[39mraise\u001b[39;00m CannotSendHeader()\n\u001b[0;32m-> 1281\u001b[0m \u001b[39mself\u001b[39;49m\u001b[39m.\u001b[39;49m_send_output(message_body, encode_chunked\u001b[39m=\u001b[39;49mencode_chunked)\n",
      "File \u001b[0;32m~/miniconda3/envs/demo/lib/python3.11/http/client.py:1041\u001b[0m, in \u001b[0;36mHTTPConnection._send_output\u001b[0;34m(self, message_body, encode_chunked)\u001b[0m\n\u001b[1;32m   1040\u001b[0m \u001b[39mdel\u001b[39;00m \u001b[39mself\u001b[39m\u001b[39m.\u001b[39m_buffer[:]\n\u001b[0;32m-> 1041\u001b[0m \u001b[39mself\u001b[39;49m\u001b[39m.\u001b[39;49msend(msg)\n\u001b[1;32m   1043\u001b[0m \u001b[39mif\u001b[39;00m message_body \u001b[39mis\u001b[39;00m \u001b[39mnot\u001b[39;00m \u001b[39mNone\u001b[39;00m:\n\u001b[1;32m   1044\u001b[0m \n\u001b[1;32m   1045\u001b[0m     \u001b[39m# create a consistent interface to message_body\u001b[39;00m\n",
      "File \u001b[0;32m~/miniconda3/envs/demo/lib/python3.11/http/client.py:979\u001b[0m, in \u001b[0;36mHTTPConnection.send\u001b[0;34m(self, data)\u001b[0m\n\u001b[1;32m    978\u001b[0m \u001b[39mif\u001b[39;00m \u001b[39mself\u001b[39m\u001b[39m.\u001b[39mauto_open:\n\u001b[0;32m--> 979\u001b[0m     \u001b[39mself\u001b[39;49m\u001b[39m.\u001b[39;49mconnect()\n\u001b[1;32m    980\u001b[0m \u001b[39melse\u001b[39;00m:\n",
      "File \u001b[0;32m~/miniconda3/envs/demo/lib/python3.11/site-packages/urllib3/connection.py:243\u001b[0m, in \u001b[0;36mHTTPConnection.connect\u001b[0;34m(self)\u001b[0m\n\u001b[1;32m    242\u001b[0m \u001b[39mdef\u001b[39;00m \u001b[39mconnect\u001b[39m(\u001b[39mself\u001b[39m) \u001b[39m-\u001b[39m\u001b[39m>\u001b[39m \u001b[39mNone\u001b[39;00m:\n\u001b[0;32m--> 243\u001b[0m     \u001b[39mself\u001b[39m\u001b[39m.\u001b[39msock \u001b[39m=\u001b[39m \u001b[39mself\u001b[39;49m\u001b[39m.\u001b[39;49m_new_conn()\n\u001b[1;32m    244\u001b[0m     \u001b[39mif\u001b[39;00m \u001b[39mself\u001b[39m\u001b[39m.\u001b[39m_tunnel_host:\n\u001b[1;32m    245\u001b[0m         \u001b[39m# If we're tunneling it means we're connected to our proxy.\u001b[39;00m\n",
      "File \u001b[0;32m~/miniconda3/envs/demo/lib/python3.11/site-packages/urllib3/connection.py:218\u001b[0m, in \u001b[0;36mHTTPConnection._new_conn\u001b[0;34m(self)\u001b[0m\n\u001b[1;32m    217\u001b[0m \u001b[39mexcept\u001b[39;00m \u001b[39mOSError\u001b[39;00m \u001b[39mas\u001b[39;00m e:\n\u001b[0;32m--> 218\u001b[0m     \u001b[39mraise\u001b[39;00m NewConnectionError(\n\u001b[1;32m    219\u001b[0m         \u001b[39mself\u001b[39m, \u001b[39mf\u001b[39m\u001b[39m\"\u001b[39m\u001b[39mFailed to establish a new connection: \u001b[39m\u001b[39m{\u001b[39;00me\u001b[39m}\u001b[39;00m\u001b[39m\"\u001b[39m\n\u001b[1;32m    220\u001b[0m     ) \u001b[39mfrom\u001b[39;00m \u001b[39me\u001b[39;00m\n\u001b[1;32m    222\u001b[0m \u001b[39m# Audit hooks are only available in Python 3.8+\u001b[39;00m\n",
      "\u001b[0;31mNewConnectionError\u001b[0m: <urllib3.connection.HTTPConnection object at 0x7f9633143b10>: Failed to establish a new connection: [Errno 111] Connection refused",
      "\nThe above exception was the direct cause of the following exception:\n",
      "\u001b[0;31mMaxRetryError\u001b[0m                             Traceback (most recent call last)",
      "File \u001b[0;32m~/miniconda3/envs/demo/lib/python3.11/site-packages/requests/adapters.py:486\u001b[0m, in \u001b[0;36mHTTPAdapter.send\u001b[0;34m(self, request, stream, timeout, verify, cert, proxies)\u001b[0m\n\u001b[1;32m    485\u001b[0m \u001b[39mtry\u001b[39;00m:\n\u001b[0;32m--> 486\u001b[0m     resp \u001b[39m=\u001b[39m conn\u001b[39m.\u001b[39;49murlopen(\n\u001b[1;32m    487\u001b[0m         method\u001b[39m=\u001b[39;49mrequest\u001b[39m.\u001b[39;49mmethod,\n\u001b[1;32m    488\u001b[0m         url\u001b[39m=\u001b[39;49murl,\n\u001b[1;32m    489\u001b[0m         body\u001b[39m=\u001b[39;49mrequest\u001b[39m.\u001b[39;49mbody,\n\u001b[1;32m    490\u001b[0m         headers\u001b[39m=\u001b[39;49mrequest\u001b[39m.\u001b[39;49mheaders,\n\u001b[1;32m    491\u001b[0m         redirect\u001b[39m=\u001b[39;49m\u001b[39mFalse\u001b[39;49;00m,\n\u001b[1;32m    492\u001b[0m         assert_same_host\u001b[39m=\u001b[39;49m\u001b[39mFalse\u001b[39;49;00m,\n\u001b[1;32m    493\u001b[0m         preload_content\u001b[39m=\u001b[39;49m\u001b[39mFalse\u001b[39;49;00m,\n\u001b[1;32m    494\u001b[0m         decode_content\u001b[39m=\u001b[39;49m\u001b[39mFalse\u001b[39;49;00m,\n\u001b[1;32m    495\u001b[0m         retries\u001b[39m=\u001b[39;49m\u001b[39mself\u001b[39;49m\u001b[39m.\u001b[39;49mmax_retries,\n\u001b[1;32m    496\u001b[0m         timeout\u001b[39m=\u001b[39;49mtimeout,\n\u001b[1;32m    497\u001b[0m         chunked\u001b[39m=\u001b[39;49mchunked,\n\u001b[1;32m    498\u001b[0m     )\n\u001b[1;32m    500\u001b[0m \u001b[39mexcept\u001b[39;00m (ProtocolError, \u001b[39mOSError\u001b[39;00m) \u001b[39mas\u001b[39;00m err:\n",
      "File \u001b[0;32m~/miniconda3/envs/demo/lib/python3.11/site-packages/urllib3/connectionpool.py:844\u001b[0m, in \u001b[0;36mHTTPConnectionPool.urlopen\u001b[0;34m(self, method, url, body, headers, retries, redirect, assert_same_host, timeout, pool_timeout, release_conn, chunked, body_pos, preload_content, decode_content, **response_kw)\u001b[0m\n\u001b[1;32m    842\u001b[0m     new_e \u001b[39m=\u001b[39m ProtocolError(\u001b[39m\"\u001b[39m\u001b[39mConnection aborted.\u001b[39m\u001b[39m\"\u001b[39m, new_e)\n\u001b[0;32m--> 844\u001b[0m retries \u001b[39m=\u001b[39m retries\u001b[39m.\u001b[39;49mincrement(\n\u001b[1;32m    845\u001b[0m     method, url, error\u001b[39m=\u001b[39;49mnew_e, _pool\u001b[39m=\u001b[39;49m\u001b[39mself\u001b[39;49m, _stacktrace\u001b[39m=\u001b[39;49msys\u001b[39m.\u001b[39;49mexc_info()[\u001b[39m2\u001b[39;49m]\n\u001b[1;32m    846\u001b[0m )\n\u001b[1;32m    847\u001b[0m retries\u001b[39m.\u001b[39msleep()\n",
      "File \u001b[0;32m~/miniconda3/envs/demo/lib/python3.11/site-packages/urllib3/util/retry.py:515\u001b[0m, in \u001b[0;36mRetry.increment\u001b[0;34m(self, method, url, response, error, _pool, _stacktrace)\u001b[0m\n\u001b[1;32m    514\u001b[0m     reason \u001b[39m=\u001b[39m error \u001b[39mor\u001b[39;00m ResponseError(cause)\n\u001b[0;32m--> 515\u001b[0m     \u001b[39mraise\u001b[39;00m MaxRetryError(_pool, url, reason) \u001b[39mfrom\u001b[39;00m \u001b[39mreason\u001b[39;00m  \u001b[39m# type: ignore[arg-type]\u001b[39;00m\n\u001b[1;32m    517\u001b[0m log\u001b[39m.\u001b[39mdebug(\u001b[39m\"\u001b[39m\u001b[39mIncremented Retry for (url=\u001b[39m\u001b[39m'\u001b[39m\u001b[39m%s\u001b[39;00m\u001b[39m'\u001b[39m\u001b[39m): \u001b[39m\u001b[39m%r\u001b[39;00m\u001b[39m\"\u001b[39m, url, new_retry)\n",
      "\u001b[0;31mMaxRetryError\u001b[0m: HTTPConnectionPool(host='localhost', port=6060): Max retries exceeded with url: /project/demonstrator/data/dataset/0 (Caused by NewConnectionError('<urllib3.connection.HTTPConnection object at 0x7f9633143b10>: Failed to establish a new connection: [Errno 111] Connection refused'))",
      "\nDuring handling of the above exception, another exception occurred:\n",
      "\u001b[0;31mConnectionError\u001b[0m                           Traceback (most recent call last)",
      "\u001b[1;32m/home/rocio/Desktop/AEQUITAS/handson/aequitas-lib/examples/AEQUITAS_Detection_Mitigation_demo.ipynb Cell 14\u001b[0m line \u001b[0;36m5\n\u001b[1;32m      <a href='vscode-notebook-cell:/home/rocio/Desktop/AEQUITAS/handson/aequitas-lib/examples/AEQUITAS_Detection_Mitigation_demo.ipynb#X13sZmlsZQ%3D%3D?line=1'>2</a>\u001b[0m gw \u001b[39m=\u001b[39m Gateway(\u001b[39m'\u001b[39m\u001b[39mdemonstrator\u001b[39m\u001b[39m'\u001b[39m, host\u001b[39m=\u001b[39m\u001b[39m'\u001b[39m\u001b[39mhttp://localhost:6060/\u001b[39m\u001b[39m'\u001b[39m)\n\u001b[1;32m      <a href='vscode-notebook-cell:/home/rocio/Desktop/AEQUITAS/handson/aequitas-lib/examples/AEQUITAS_Detection_Mitigation_demo.ipynb#X13sZmlsZQ%3D%3D?line=2'>3</a>\u001b[0m fs_only \u001b[39m=\u001b[39m \u001b[39mFalse\u001b[39;00m\n\u001b[0;32m----> <a href='vscode-notebook-cell:/home/rocio/Desktop/AEQUITAS/handson/aequitas-lib/examples/AEQUITAS_Detection_Mitigation_demo.ipynb#X13sZmlsZQ%3D%3D?line=4'>5</a>\u001b[0m gw\u001b[39m.\u001b[39;49msave_element(Aeq_dataset\u001b[39m.\u001b[39;49mparameters, element_key\u001b[39m=\u001b[39;49m\u001b[39m\"\u001b[39;49m\u001b[39mdataset\u001b[39;49m\u001b[39m\"\u001b[39;49m, filesystem\u001b[39m=\u001b[39;49mfs_only)\n",
      "File \u001b[0;32m~/Desktop/AEQUITAS/handson/aequitas-lib/examples/../aequitas/gateway/__init__.py:94\u001b[0m, in \u001b[0;36mGateway.save_element\u001b[0;34m(self, parameters, element_key, version, filesystem)\u001b[0m\n\u001b[1;32m     92\u001b[0m     \u001b[39mreturn\u001b[39;00m \u001b[39mself\u001b[39m\u001b[39m.\u001b[39m_save_element_to_filesystem(_e[\u001b[39m'\u001b[39m\u001b[39mkey\u001b[39m\u001b[39m'\u001b[39m], _e[\u001b[39m'\u001b[39m\u001b[39mversion\u001b[39m\u001b[39m'\u001b[39m], _p)\n\u001b[1;32m     93\u001b[0m \u001b[39melse\u001b[39;00m:\n\u001b[0;32m---> 94\u001b[0m     \u001b[39mreturn\u001b[39;00m \u001b[39mself\u001b[39;49m\u001b[39m.\u001b[39;49m_save_element_to_remote(_e[\u001b[39m'\u001b[39;49m\u001b[39mkey\u001b[39;49m\u001b[39m'\u001b[39;49m], _e[\u001b[39m'\u001b[39;49m\u001b[39mversion\u001b[39;49m\u001b[39m'\u001b[39;49m], _p)\n",
      "File \u001b[0;32m~/Desktop/AEQUITAS/handson/aequitas-lib/examples/../aequitas/gateway/__init__.py:196\u001b[0m, in \u001b[0;36mGateway._save_element_to_remote\u001b[0;34m(self, element_key, version, parameters)\u001b[0m\n\u001b[1;32m    192\u001b[0m     r \u001b[39m=\u001b[39m requests\u001b[39m.\u001b[39mput(\u001b[39mf\u001b[39m\u001b[39m'\u001b[39m\u001b[39m{\u001b[39;00m\u001b[39mself\u001b[39m\u001b[39m.\u001b[39m_host\u001b[39m}\u001b[39;00m\u001b[39mproject/\u001b[39m\u001b[39m{\u001b[39;00m\u001b[39mself\u001b[39m\u001b[39m.\u001b[39mpid\u001b[39m}\u001b[39;00m\u001b[39m/data/\u001b[39m\u001b[39m{\u001b[39;00melement_key\u001b[39m}\u001b[39;00m\u001b[39m/0\u001b[39m\u001b[39m'\u001b[39m,\n\u001b[1;32m    193\u001b[0m                      data\u001b[39m=\u001b[39mjson\u001b[39m.\u001b[39mdumps(parameters, \u001b[39mcls\u001b[39m\u001b[39m=\u001b[39mNpEncoder),\n\u001b[1;32m    194\u001b[0m                      headers\u001b[39m=\u001b[39m_headers)\n\u001b[1;32m    195\u001b[0m \u001b[39melse\u001b[39;00m:\n\u001b[0;32m--> 196\u001b[0m     r \u001b[39m=\u001b[39m requests\u001b[39m.\u001b[39;49mput(\u001b[39mf\u001b[39;49m\u001b[39m'\u001b[39;49m\u001b[39m{\u001b[39;49;00m\u001b[39mself\u001b[39;49m\u001b[39m.\u001b[39;49m_host\u001b[39m}\u001b[39;49;00m\u001b[39mproject/\u001b[39;49m\u001b[39m{\u001b[39;49;00m\u001b[39mself\u001b[39;49m\u001b[39m.\u001b[39;49mpid\u001b[39m}\u001b[39;49;00m\u001b[39m/data/\u001b[39;49m\u001b[39m{\u001b[39;49;00melement_key\u001b[39m}\u001b[39;49;00m\u001b[39m/\u001b[39;49m\u001b[39m{\u001b[39;49;00mversion\u001b[39m}\u001b[39;49;00m\u001b[39m'\u001b[39;49m,\n\u001b[1;32m    197\u001b[0m                      data\u001b[39m=\u001b[39;49mjson\u001b[39m.\u001b[39;49mdumps(parameters, \u001b[39mcls\u001b[39;49m\u001b[39m=\u001b[39;49mNpEncoder),\n\u001b[1;32m    198\u001b[0m                      headers\u001b[39m=\u001b[39;49m_headers)\n\u001b[1;32m    200\u001b[0m \u001b[39mif\u001b[39;00m r\u001b[39m.\u001b[39mstatus_code \u001b[39m!=\u001b[39m \u001b[39m200\u001b[39m:\n\u001b[1;32m    201\u001b[0m     \u001b[39mprint\u001b[39m(\u001b[39m\"\u001b[39m\u001b[39mError: \u001b[39m\u001b[39m\"\u001b[39m, r\u001b[39m.\u001b[39mstatus_code)\n",
      "File \u001b[0;32m~/miniconda3/envs/demo/lib/python3.11/site-packages/requests/api.py:130\u001b[0m, in \u001b[0;36mput\u001b[0;34m(url, data, **kwargs)\u001b[0m\n\u001b[1;32m    118\u001b[0m \u001b[39mdef\u001b[39;00m \u001b[39mput\u001b[39m(url, data\u001b[39m=\u001b[39m\u001b[39mNone\u001b[39;00m, \u001b[39m*\u001b[39m\u001b[39m*\u001b[39mkwargs):\n\u001b[1;32m    119\u001b[0m \u001b[39m    \u001b[39m\u001b[39mr\u001b[39m\u001b[39m\"\"\"Sends a PUT request.\u001b[39;00m\n\u001b[1;32m    120\u001b[0m \n\u001b[1;32m    121\u001b[0m \u001b[39m    :param url: URL for the new :class:`Request` object.\u001b[39;00m\n\u001b[0;32m   (...)\u001b[0m\n\u001b[1;32m    127\u001b[0m \u001b[39m    :rtype: requests.Response\u001b[39;00m\n\u001b[1;32m    128\u001b[0m \u001b[39m    \"\"\"\u001b[39;00m\n\u001b[0;32m--> 130\u001b[0m     \u001b[39mreturn\u001b[39;00m request(\u001b[39m\"\u001b[39;49m\u001b[39mput\u001b[39;49m\u001b[39m\"\u001b[39;49m, url, data\u001b[39m=\u001b[39;49mdata, \u001b[39m*\u001b[39;49m\u001b[39m*\u001b[39;49mkwargs)\n",
      "File \u001b[0;32m~/miniconda3/envs/demo/lib/python3.11/site-packages/requests/api.py:59\u001b[0m, in \u001b[0;36mrequest\u001b[0;34m(method, url, **kwargs)\u001b[0m\n\u001b[1;32m     55\u001b[0m \u001b[39m# By using the 'with' statement we are sure the session is closed, thus we\u001b[39;00m\n\u001b[1;32m     56\u001b[0m \u001b[39m# avoid leaving sockets open which can trigger a ResourceWarning in some\u001b[39;00m\n\u001b[1;32m     57\u001b[0m \u001b[39m# cases, and look like a memory leak in others.\u001b[39;00m\n\u001b[1;32m     58\u001b[0m \u001b[39mwith\u001b[39;00m sessions\u001b[39m.\u001b[39mSession() \u001b[39mas\u001b[39;00m session:\n\u001b[0;32m---> 59\u001b[0m     \u001b[39mreturn\u001b[39;00m session\u001b[39m.\u001b[39;49mrequest(method\u001b[39m=\u001b[39;49mmethod, url\u001b[39m=\u001b[39;49murl, \u001b[39m*\u001b[39;49m\u001b[39m*\u001b[39;49mkwargs)\n",
      "File \u001b[0;32m~/miniconda3/envs/demo/lib/python3.11/site-packages/requests/sessions.py:589\u001b[0m, in \u001b[0;36mSession.request\u001b[0;34m(self, method, url, params, data, headers, cookies, files, auth, timeout, allow_redirects, proxies, hooks, stream, verify, cert, json)\u001b[0m\n\u001b[1;32m    584\u001b[0m send_kwargs \u001b[39m=\u001b[39m {\n\u001b[1;32m    585\u001b[0m     \u001b[39m\"\u001b[39m\u001b[39mtimeout\u001b[39m\u001b[39m\"\u001b[39m: timeout,\n\u001b[1;32m    586\u001b[0m     \u001b[39m\"\u001b[39m\u001b[39mallow_redirects\u001b[39m\u001b[39m\"\u001b[39m: allow_redirects,\n\u001b[1;32m    587\u001b[0m }\n\u001b[1;32m    588\u001b[0m send_kwargs\u001b[39m.\u001b[39mupdate(settings)\n\u001b[0;32m--> 589\u001b[0m resp \u001b[39m=\u001b[39m \u001b[39mself\u001b[39;49m\u001b[39m.\u001b[39;49msend(prep, \u001b[39m*\u001b[39;49m\u001b[39m*\u001b[39;49msend_kwargs)\n\u001b[1;32m    591\u001b[0m \u001b[39mreturn\u001b[39;00m resp\n",
      "File \u001b[0;32m~/miniconda3/envs/demo/lib/python3.11/site-packages/requests/sessions.py:703\u001b[0m, in \u001b[0;36mSession.send\u001b[0;34m(self, request, **kwargs)\u001b[0m\n\u001b[1;32m    700\u001b[0m start \u001b[39m=\u001b[39m preferred_clock()\n\u001b[1;32m    702\u001b[0m \u001b[39m# Send the request\u001b[39;00m\n\u001b[0;32m--> 703\u001b[0m r \u001b[39m=\u001b[39m adapter\u001b[39m.\u001b[39;49msend(request, \u001b[39m*\u001b[39;49m\u001b[39m*\u001b[39;49mkwargs)\n\u001b[1;32m    705\u001b[0m \u001b[39m# Total elapsed time of the request (approximately)\u001b[39;00m\n\u001b[1;32m    706\u001b[0m elapsed \u001b[39m=\u001b[39m preferred_clock() \u001b[39m-\u001b[39m start\n",
      "File \u001b[0;32m~/miniconda3/envs/demo/lib/python3.11/site-packages/requests/adapters.py:519\u001b[0m, in \u001b[0;36mHTTPAdapter.send\u001b[0;34m(self, request, stream, timeout, verify, cert, proxies)\u001b[0m\n\u001b[1;32m    515\u001b[0m     \u001b[39mif\u001b[39;00m \u001b[39misinstance\u001b[39m(e\u001b[39m.\u001b[39mreason, _SSLError):\n\u001b[1;32m    516\u001b[0m         \u001b[39m# This branch is for urllib3 v1.22 and later.\u001b[39;00m\n\u001b[1;32m    517\u001b[0m         \u001b[39mraise\u001b[39;00m SSLError(e, request\u001b[39m=\u001b[39mrequest)\n\u001b[0;32m--> 519\u001b[0m     \u001b[39mraise\u001b[39;00m \u001b[39mConnectionError\u001b[39;00m(e, request\u001b[39m=\u001b[39mrequest)\n\u001b[1;32m    521\u001b[0m \u001b[39mexcept\u001b[39;00m ClosedPoolError \u001b[39mas\u001b[39;00m e:\n\u001b[1;32m    522\u001b[0m     \u001b[39mraise\u001b[39;00m \u001b[39mConnectionError\u001b[39;00m(e, request\u001b[39m=\u001b[39mrequest)\n",
      "\u001b[0;31mConnectionError\u001b[0m: HTTPConnectionPool(host='localhost', port=6060): Max retries exceeded with url: /project/demonstrator/data/dataset/0 (Caused by NewConnectionError('<urllib3.connection.HTTPConnection object at 0x7f9633143b10>: Failed to establish a new connection: [Errno 111] Connection refused'))"
     ]
    }
   ],
   "source": [
    "#### Mattias Addition\n",
    "gw = Gateway('demonstrator', host='http://localhost:6060/')\n",
    "fs_only = False\n",
    "\n",
    "gw.save_element(Aeq_dataset.parameters, element_key=\"dataset\", filesystem=fs_only)"
   ]
  },
  {
   "cell_type": "code",
   "execution_count": 40,
   "metadata": {
    "ExecuteTime": {
     "end_time": "2023-10-15T20:23:20.576782Z",
     "start_time": "2023-10-15T20:23:20.556945Z"
    }
   },
   "outputs": [],
   "source": [
    "# Lets go forward with a more detailed fairness analysis\n",
    "\n",
    "#Lets split the dataset into training and test samples\n",
    "training_sample,test_sample = dm.split_dataset(dataset,ratio=0.3, random_state=42)"
   ]
  },
  {
   "cell_type": "code",
   "execution_count": 37,
   "metadata": {
    "ExecuteTime": {
     "end_time": "2023-10-15T20:23:22.120735Z",
     "start_time": "2023-10-15T20:23:22.102236Z"
    }
   },
   "outputs": [],
   "source": [
    "# Define a parameters file with privileged groups\n",
    "parameters={\n",
    "    \"class_attribute\":{\n",
    "        \"name\": 'Employed',\n",
    "        \"positive_value\":'True'\n",
    "    },\n",
    "    \"sensitive_attributes\":\n",
    "    [\n",
    "        {\n",
    "            \"name\": 'Gender',\n",
    "        }\n",
    "    ]\n",
    "}\n",
    "# Define two Aequitas Objects\n",
    "Aeq_training=Aequitas(training_sample,parameters)\n",
    "Aeq_test=Aequitas(test_sample,parameters)"
   ]
  },
  {
   "cell_type": "code",
   "execution_count": 45,
   "metadata": {
    "ExecuteTime": {
     "end_time": "2023-10-15T20:23:23.618618Z",
     "start_time": "2023-10-15T20:23:23.356622Z"
    }
   },
   "outputs": [
    {
     "name": "stdout",
     "output_type": "stream",
     "text": [
      "Dataset:\n",
      "        Column Name Data Type Column Type (suggestion)  Number_Values                                           Values\n",
      "0               Age      text                   Binary              2                                       [<35, >35]\n",
      "1     Accessibility      text                   Binary              2                                        [No, Yes]\n",
      "2           EdLevel      text      Categorical/Ordinal              5  [Undergraduate, Master, Other, PhD, NoHigherEd]\n",
      "3        Employment   float64                   Binary              2                                       [1.0, 0.0]\n",
      "4            Gender      text      Categorical/Ordinal              3                          [Man, Woman, NonBinary]\n",
      "..              ...       ...                      ...            ...                                              ...\n",
      "124  Play Framework   float64                   Binary              2                                       [0.0, 1.0]\n",
      "125         Phoenix   float64                   Binary              2                                       [0.0, 1.0]\n",
      "126           OCaml   float64                   Binary              2                                       [0.0, 1.0]\n",
      "127      Colocation   float64                   Binary              2                                       [0.0, 1.0]\n",
      "128        Solidity   float64                   Binary              2                                       [0.0, 1.0]\n",
      "\n",
      "[129 rows x 5 columns]\n"
     ]
    }
   ],
   "source": [
    "# Get data on Aeq_training object\n",
    "Aeq_training.structure(verbose=True)\n",
    "Aeq_training.descriptive_stats()"
   ]
  },
  {
   "cell_type": "code",
   "execution_count": 43,
   "metadata": {},
   "outputs": [
    {
     "name": "stdout",
     "output_type": "stream",
     "text": [
      "Probabilities:\n",
      "            Man    Woman  NonBinary\n",
      "True   0.539914  0.46303   0.529412\n",
      "False  0.460086  0.53697   0.470588\n",
      "\n",
      "Statistical/Demographic Parity:\n",
      "Outcome:  True\n",
      "                Man     Woman  NonBinary\n",
      "Man        0.000000  0.076883   0.010502\n",
      "Woman     -0.076883  0.000000  -0.066381\n",
      "NonBinary -0.010502  0.066381   0.000000\n",
      "\n",
      "Outcome:  False\n",
      "                Man     Woman  NonBinary\n",
      "Man        0.000000 -0.076883  -0.010502\n",
      "Woman      0.076883  0.000000   0.066381\n",
      "NonBinary  0.010502 -0.066381   0.000000\n",
      "\n",
      "\n"
     ]
    }
   ],
   "source": [
    "# you can use the folowing techniques without defining privileged groups. in that case the results will be displayed\n",
    "# as if all values could be privileged.\n",
    "Aeq_training.statistical_parity(verbose=True)"
   ]
  },
  {
   "cell_type": "code",
   "execution_count": 44,
   "metadata": {},
   "outputs": [
    {
     "name": "stdout",
     "output_type": "stream",
     "text": [
      "Probabilities:\n",
      "            Man    Woman  NonBinary\n",
      "True   0.539914  0.46303   0.529412\n",
      "False  0.460086  0.53697   0.470588\n",
      "\n",
      "Disparate Impact:\n",
      "Outcome:  True\n",
      "                Man     Woman  NonBinary\n",
      "Man        1.000000  0.857601   0.980549\n",
      "Woman      1.166044  1.000000   1.143363\n",
      "NonBinary  1.019837  0.874613   1.000000\n",
      "\n",
      "Outcome:  False\n",
      "                Man     Woman  NonBinary\n",
      "Man        1.000000  1.167106   1.022826\n",
      "Woman      0.856820  1.000000   0.876378\n",
      "NonBinary  0.977684  1.141061   1.000000\n",
      "\n",
      "\n"
     ]
    }
   ],
   "source": [
    "Aeq_training.disparate_impact(verbose=True)"
   ]
  },
  {
   "cell_type": "code",
   "execution_count": 15,
   "metadata": {
    "ExecuteTime": {
     "end_time": "2023-10-15T20:23:26.159796Z",
     "start_time": "2023-10-15T20:23:26.137242Z"
    }
   },
   "outputs": [],
   "source": [
    "# # Define appropriate transformations for dataset\n",
    "# transform_dictionary = {\n",
    "#     \"income\": {\n",
    "#         \"encode\": \"labeling\",\n",
    "#         \"labels\": {\n",
    "#             \"<=50K\": 0,\n",
    "#             \">50K\": 1, \n",
    "#         }\n",
    "#     },\n",
    "#     \"gender\": {\n",
    "#         \"encode\": \"labeling\",\n",
    "#         \"labels\": {\n",
    "#             \"Female\": 0,\n",
    "#             \"Male\": 1, \n",
    "#         }\n",
    "#     },\n",
    "#     \"race\": {\n",
    "#         \"encode\": \"labeling\",\n",
    "#         \"labels\": {\n",
    "#             \"Minority\": 0,\n",
    "#             \"White\": 1, \n",
    "#         } \n",
    "#     },\n",
    "#     \"workclass\": {\n",
    "#         \"encode\": \"labeling\",\n",
    "#         \"scaling\": \"min-max\"\n",
    "#     },\n",
    "#     \"marital-status\": {\n",
    "#         \"encode\": \"labeling\",\n",
    "#         \"scaling\": \"min-max\"\n",
    "#     },\n",
    "#     \"occupation\": {\n",
    "#         \"encode\": \"labeling\", \n",
    "#         \"scaling\": \"min-max\"\n",
    "#     },\n",
    "#     \"relationship\": {\n",
    "#         \"encode\": \"labeling\", \n",
    "#         \"scaling\": \"min-max\"\n",
    "#     },\n",
    "#     \"native-country\": {\n",
    "#         \"encode\": \"labeling\", \n",
    "#         \"scaling\": \"min-max\"\n",
    "#     },\n",
    "#     \"age\":{\n",
    "#         \"scaling\": \"standard\"\n",
    "#     },\n",
    "#     \"educational-num\":{\n",
    "#         \"scaling\": \"min-max\"\n",
    "#     },\n",
    "#     \"capital-gain\":{\n",
    "#         \"scaling\": \"standard\"\n",
    "#     },\n",
    "#     \"capital-loss\":{\n",
    "#         \"scaling\": \"standard\"\n",
    "#     },\n",
    "#     \"hours-per-week\":{\n",
    "#         \"scaling\": \"standard\"\n",
    "#     }\n",
    "# }\n",
    "\n",
    "# # add transform instructions for techniques\n",
    "# Aeq_training.transform_instructions(transform_dictionary)\n",
    "# Aeq_test.transform_instructions(transform_dictionary)"
   ]
  },
  {
   "cell_type": "code",
   "execution_count": 52,
   "metadata": {},
   "outputs": [
    {
     "name": "stdout",
     "output_type": "stream",
     "text": [
      "Index(['Age', 'Accessibility', 'EdLevel', 'Employment', 'Gender', 'MentalHealth', 'MainBranch', 'YearsCode', 'YearsCodePro', 'Country', 'PreviousSalary', 'ComputerSkills', 'Employed'], dtype='object')\n",
      "Dataset:\n",
      "        Column Name Data Type Column Type (suggestion)  Number_Values                                           Values\n",
      "0               Age      text                   Binary              2                                       [<35, >35]\n",
      "1     Accessibility      text                   Binary              2                                        [No, Yes]\n",
      "2           EdLevel      text      Categorical/Ordinal              5  [Undergraduate, Master, Other, PhD, NoHigherEd]\n",
      "3        Employment   float64                   Binary              2                                       [1.0, 0.0]\n",
      "4            Gender      text      Categorical/Ordinal              3                          [Man, Woman, NonBinary]\n",
      "..              ...       ...                      ...            ...                                              ...\n",
      "124  Play Framework   float64                   Binary              2                                       [0.0, 1.0]\n",
      "125         Phoenix   float64                   Binary              2                                       [0.0, 1.0]\n",
      "126           OCaml   float64                   Binary              2                                       [0.0, 1.0]\n",
      "127      Colocation   float64                   Binary              2                                       [0.0, 1.0]\n",
      "128        Solidity   float64                   Binary              2                                       [0.0, 1.0]\n",
      "\n",
      "[129 rows x 5 columns]\n"
     ]
    }
   ],
   "source": [
    "print(dataset.iloc[:,:13].columns)\n",
    "Aeq_training.structure(verbose=True)"
   ]
  },
  {
   "cell_type": "code",
   "execution_count": 53,
   "metadata": {},
   "outputs": [
    {
     "data": {
      "text/plain": [
       "YearsCode\n",
       "10.0    6335\n",
       "8.0     4596\n",
       "7.0     4489\n",
       "6.0     4374\n",
       "5.0     4194\n",
       "15.0    4137\n",
       "12.0    3865\n",
       "20.0    3691\n",
       "9.0     3112\n",
       "4.0     2844\n",
       "11.0    2530\n",
       "14.0    2373\n",
       "13.0    2282\n",
       "25.0    2138\n",
       "3.0     1945\n",
       "16.0    1863\n",
       "30.0    1653\n",
       "18.0    1642\n",
       "17.0    1602\n",
       "22.0    1376\n",
       "2.0     1133\n",
       "35.0     939\n",
       "23.0     932\n",
       "21.0     867\n",
       "24.0     845\n",
       "19.0     808\n",
       "40.0     790\n",
       "27.0     629\n",
       "26.0     622\n",
       "28.0     514\n",
       "32.0     413\n",
       "1.0      362\n",
       "37.0     347\n",
       "38.0     340\n",
       "33.0     305\n",
       "34.0     294\n",
       "36.0     289\n",
       "29.0     259\n",
       "31.0     216\n",
       "42.0     210\n",
       "39.0     190\n",
       "0.0      183\n",
       "41.0     166\n",
       "45.0     153\n",
       "43.0     124\n",
       "50.0     122\n",
       "44.0     101\n",
       "46.0      57\n",
       "47.0      35\n",
       "48.0      26\n",
       "49.0      24\n",
       "Name: count, dtype: int64"
      ]
     },
     "execution_count": 53,
     "metadata": {},
     "output_type": "execute_result"
    }
   ],
   "source": [
    "dataset.YearsCode.value_counts()"
   ]
  },
  {
   "cell_type": "code",
   "execution_count": null,
   "metadata": {},
   "outputs": [],
   "source": [
    "# Define appropriate transformations for dataset\n",
    "transform_dictionary = {\n",
    "    \"Age\": {\n",
    "        \"encode\": \"one-hot\",\n",
    "    },\n",
    "    \"Accessibility\": {\n",
    "        \"encode\": \"one-hot\"\n",
    "    },\n",
    "    \"EdLevel\": {\n",
    "        \"encode\": \"one-hot\"\n",
    "    },\n",
    "    \"Employment\": {\n",
    "        \"encode\": \"one-hot\"\n",
    "    },\n",
    "    \"Gender\": {\n",
    "        \"encode\": \"one-hot\"\n",
    "    },\n",
    "    \"MentalHealth\": {\n",
    "        \"encode\": \"one-hot\"\n",
    "    },\n",
    "    \"MainBranch\": {\n",
    "        \"encode\": \"one-hot\"\n",
    "    },\n",
    "    # ------------- up to here\n",
    "    \"YearsCode\": {\n",
    "        \"encode\": \"labeling\", \n",
    "        \"scaling\": \"min-max\"\n",
    "    },\n",
    "    \"age\":{\n",
    "        \"scaling\": \"standard\"\n",
    "    },\n",
    "    \"educational-num\":{\n",
    "        \"scaling\": \"min-max\"\n",
    "    },\n",
    "    \"capital-gain\":{\n",
    "        \"scaling\": \"standard\"\n",
    "    },\n",
    "    \"capital-loss\":{\n",
    "        \"scaling\": \"standard\"\n",
    "    },\n",
    "    \"hours-per-week\":{\n",
    "        \"scaling\": \"standard\"\n",
    "    }\n",
    "}\n",
    "\n",
    "# add transform instructions for techniques\n",
    "Aeq_training.transform_instructions(transform_dictionary)\n",
    "Aeq_test.transform_instructions(transform_dictionary)"
   ]
  },
  {
   "cell_type": "code",
   "execution_count": 16,
   "metadata": {
    "ExecuteTime": {
     "end_time": "2023-10-15T20:23:28.660081Z",
     "start_time": "2023-10-15T20:23:27.562393Z"
    }
   },
   "outputs": [
    {
     "name": "stdout",
     "output_type": "stream",
     "text": [
      "Probabilities:\n",
      "          Male    Female\n",
      ">50K  0.237753  0.237881\n",
      "\n",
      "Statistical/Demographic Parity:\n",
      "Outcome:  >50K\n",
      "      Male    Female\n",
      "Male   0.0 -0.000128\n",
      "\n",
      "\n"
     ]
    }
   ],
   "source": [
    "\n",
    "# mitigate bias on data (massaging) / you can use also uniform_sampling or preferential_sampling\n",
    "Aeq_training_unbiased=Aeq_training.mitigation(method='massaging', sensitive_attribute='gender')\n",
    "\n",
    "# check statistical parity on new unbiased object\n",
    "Aeq_training_unbiased.statistical_parity(verbose=True)"
   ]
  },
  {
   "cell_type": "code",
   "execution_count": 17,
   "metadata": {
    "ExecuteTime": {
     "end_time": "2023-10-15T20:23:29.820777Z",
     "start_time": "2023-10-15T20:23:29.586779Z"
    }
   },
   "outputs": [
    {
     "name": "stdout",
     "output_type": "stream",
     "text": [
      "Classifier Accuracy: 0.80\n"
     ]
    }
   ],
   "source": [
    "# Lets do a classification to see the results on the test sample\n",
    "\n",
    "# transform object's dataset to numeric values\n",
    "Aeq_training_unbiased.transform()\n",
    "Aeq_test.transform()\n",
    "\n",
    "# define classifier parameters\n",
    "classifier_type=\"Decision_Tree\"\n",
    "classifier_params={\n",
    "    \"random_state\":42, \n",
    "    \"min_samples_leaf\":10\n",
    "}\n",
    "class_attribute=Aeq_training_unbiased.parameters[\"class_attribute\"][\"name\"]\n",
    "\n",
    "# Train a classifier on training sample\n",
    "clf=tools.train_classifier(Aeq_training_unbiased.dataset,class_attribute,classifier_type,classifier_params)\n",
    "\n",
    "# Test classifier on test sample\n",
    "predicted_test_sample, _, _, _= tools.test_classifier(clf,Aeq_test.dataset,class_attribute,verbose=True)\n",
    "\n",
    "# Inverse transform the predicted test sample and the test sample\n",
    "Aeq_training_unbiased.inverse_transform()\n",
    "Aeq_test.inverse_transform()"
   ]
  },
  {
   "cell_type": "code",
   "execution_count": 18,
   "metadata": {
    "ExecuteTime": {
     "end_time": "2023-10-15T20:23:30.977919Z",
     "start_time": "2023-10-15T20:23:30.912705Z"
    }
   },
   "outputs": [
    {
     "name": "stdout",
     "output_type": "stream",
     "text": [
      "Probabilities:\n",
      "          Male    Female\n",
      ">50K  0.204854  0.221832\n",
      "\n",
      "Statistical/Demographic Parity:\n",
      "Outcome:  >50K\n",
      "      Male    Female\n",
      "Male   0.0 -0.016979\n",
      "\n",
      "\n"
     ]
    }
   ],
   "source": [
    "# define a new prediction test sample\n",
    "Aeq_predicted_test=Aeq_test.copy()\n",
    "Aeq_predicted_test.set_dataset(predicted_test_sample)\n",
    "Aeq_predicted_test.inverse_transform()\n",
    "\n",
    "# check statistical parity on new prediction test sample\n",
    "Aeq_predicted_test.statistical_parity(verbose=True)"
   ]
  },
  {
   "cell_type": "code",
   "execution_count": 19,
   "metadata": {
    "ExecuteTime": {
     "end_time": "2023-10-15T20:23:33.639826Z",
     "start_time": "2023-10-15T20:23:33.460329Z"
    }
   },
   "outputs": [
    {
     "name": "stdout",
     "output_type": "stream",
     "text": [
      "Confusion Metrics:  (Positive_outcome='>50K')\n",
      "          Female         Male\n",
      "TP    404.000000  1461.000000\n",
      "TN   3611.000000  6266.000000\n",
      "FP    671.000000   548.000000\n",
      "FN    160.000000  1532.000000\n",
      "TPR     0.716312     0.488139\n",
      "TNR     0.843298     0.919577\n",
      "FPR     0.156702     0.080423\n",
      "FNR     0.283688     0.511861\n",
      "FDR     0.624186     0.272773\n",
      "FOR     0.042429     0.196461\n",
      "PPV     0.375814     0.727227\n",
      "NPV     0.957571     0.803539\n",
      "RPP     0.221832     0.204854\n",
      "RNP     0.778168     0.795146\n",
      "ACC     0.828518     0.787907\n",
      "Equality of Opportunity:  (Positive_outcome='>50K')\n",
      "        Female  Male\n",
      "Male -0.228173   0.0\n",
      "\n",
      "Confusion Metrics:  (Positive_outcome='>50K')\n",
      "          Female         Male\n",
      "TP    404.000000  1461.000000\n",
      "TN   3611.000000  6266.000000\n",
      "FP    671.000000   548.000000\n",
      "FN    160.000000  1532.000000\n",
      "TPR     0.716312     0.488139\n",
      "TNR     0.843298     0.919577\n",
      "FPR     0.156702     0.080423\n",
      "FNR     0.283688     0.511861\n",
      "FDR     0.624186     0.272773\n",
      "FOR     0.042429     0.196461\n",
      "PPV     0.375814     0.727227\n",
      "NPV     0.957571     0.803539\n",
      "RPP     0.221832     0.204854\n",
      "RNP     0.778168     0.795146\n",
      "ACC     0.828518     0.787907\n",
      "Equal Odds:  (Positive_outcome='>50K')\n",
      "        Female  Male\n",
      "Male -0.075947   0.0\n",
      "\n"
     ]
    }
   ],
   "source": [
    "prediction=np.array(Aeq_predicted_test.dataset[class_attribute])\n",
    "\n",
    "# check equal opportunity / equal odds on test sample\n",
    "Aeq_test.equal_opportunity(prediction,verbose=True)\n",
    "Aeq_test.equal_odds(prediction,verbose=True)"
   ]
  },
  {
   "cell_type": "code",
   "execution_count": 20,
   "metadata": {
    "ExecuteTime": {
     "end_time": "2023-10-15T21:02:23.546980Z",
     "start_time": "2023-10-15T21:02:21.465224Z"
    }
   },
   "outputs": [
    {
     "name": "stdout",
     "output_type": "stream",
     "text": [
      "Aequitas Dataset parameters:\n",
      "{\n",
      "    \"class_attribute\": {\n",
      "        \"name\": \"income\",\n",
      "        \"positive_value\": \">50K\"\n",
      "    },\n",
      "    \"sensitive_attributes\": [\n",
      "        {\n",
      "            \"name\": \"gender\",\n",
      "            \"privileged_group\": \"Male\"\n",
      "        }\n",
      "    ],\n",
      "    \"Mitigation\": \"True\",\n",
      "    \"Mitigation_technique\": \"massaging\",\n",
      "    \"transform_dictionary\": {\n",
      "        \"income\": {\n",
      "            \"encode\": \"labeling\",\n",
      "            \"labels\": {\n",
      "                \"<=50K\": 0,\n",
      "                \">50K\": 1\n",
      "            }\n",
      "        },\n",
      "        \"gender\": {\n",
      "            \"encode\": \"labeling\",\n",
      "            \"labels\": {\n",
      "                \"Female\": 0,\n",
      "                \"Male\": 1\n",
      "            }\n",
      "        },\n",
      "        \"race\": {\n",
      "            \"encode\": \"labeling\",\n",
      "            \"labels\": {\n",
      "                \"Minority\": 0,\n",
      "                \"White\": 1\n",
      "            }\n",
      "        },\n",
      "        \"workclass\": {\n",
      "            \"encode\": \"labeling\",\n",
      "            \"scaling\": \"min-max\"\n",
      "        },\n",
      "        \"marital-status\": {\n",
      "            \"encode\": \"labeling\",\n",
      "            \"scaling\": \"min-max\"\n",
      "        },\n",
      "        \"occupation\": {\n",
      "            \"encode\": \"labeling\",\n",
      "            \"scaling\": \"min-max\"\n",
      "        },\n",
      "        \"relationship\": {\n",
      "            \"encode\": \"labeling\",\n",
      "            \"scaling\": \"min-max\"\n",
      "        },\n",
      "        \"native-country\": {\n",
      "            \"encode\": \"labeling\",\n",
      "            \"scaling\": \"min-max\"\n",
      "        },\n",
      "        \"age\": {\n",
      "            \"scaling\": \"standard\"\n",
      "        },\n",
      "        \"educational-num\": {\n",
      "            \"scaling\": \"min-max\"\n",
      "        },\n",
      "        \"capital-gain\": {\n",
      "            \"scaling\": \"standard\"\n",
      "        },\n",
      "        \"capital-loss\": {\n",
      "            \"scaling\": \"standard\"\n",
      "        },\n",
      "        \"hours-per-week\": {\n",
      "            \"scaling\": \"standard\"\n",
      "        }\n",
      "    },\n",
      "    \"statistical_parity\": {\n",
      "        \"probabilities\": {\n",
      "            \">50K\": {\n",
      "                \"Male\": 0.23775335989143281,\n",
      "                \"Female\": 0.23788119160937776\n",
      "            }\n",
      "        },\n",
      "        \"metric\": {\n",
      "            \"gender\": {\n",
      "                \">50K\": {\n",
      "                    \"Male\": {\n",
      "                        \"Male\": 0.0,\n",
      "                        \"Female\": -0.0001278317179449484\n",
      "                    }\n",
      "                },\n",
      "                \"metric\": -0.0001278317179449484\n",
      "            }\n",
      "        }\n",
      "    }\n",
      "}\n"
     ]
    }
   ],
   "source": [
    "#display parameters file\n",
    "Aeq_training_unbiased.display()\n",
    "\n",
    "#save paramenters file to remote server\n",
    "gw.save_element(Aeq_training_unbiased.parameters, element_key=\"dataset\", version=\"unbiased\")"
   ]
  },
  {
   "cell_type": "code",
   "execution_count": 21,
   "metadata": {
    "ExecuteTime": {
     "end_time": "2023-10-15T21:02:26.961070Z",
     "start_time": "2023-10-15T21:02:24.907602Z"
    }
   },
   "outputs": [
    {
     "name": "stdout",
     "output_type": "stream",
     "text": [
      "Aequitas Dataset parameters:\n",
      "{\n",
      "    \"class_attribute\": {\n",
      "        \"name\": \"income\",\n",
      "        \"positive_value\": \">50K\"\n",
      "    },\n",
      "    \"sensitive_attributes\": [\n",
      "        {\n",
      "            \"name\": \"gender\",\n",
      "            \"privileged_group\": \"Male\"\n",
      "        }\n",
      "    ],\n",
      "    \"Mitigation\": \"False\",\n",
      "    \"proportions\": {\n",
      "        \"income\": {\n",
      "            \"<=50K\": 0.7622042177308491,\n",
      "            \">50K\": 0.2377957822691509\n",
      "        },\n",
      "        \"gender\": {\n",
      "            \"Male\": 0.668138875076779,\n",
      "            \"Female\": 0.3318611249232209\n",
      "        }\n",
      "    },\n",
      "    \"outcome_distribution_by_group\": {\n",
      "        \"income/gender\": {\n",
      "            \"Female\": {\n",
      "                \"<=50K\": 0.8937951701040014,\n",
      "                \">50K\": 0.1062048298959986\n",
      "            },\n",
      "            \"Male\": {\n",
      "                \"<=50K\": 0.6968436720220637,\n",
      "                \">50K\": 0.30315632797793635\n",
      "            }\n",
      "        }\n",
      "    },\n",
      "    \"contingency\": [\n",
      "        {\n",
      "            \"attribute1\": \"gender\",\n",
      "            \"attribute2\": \"income\",\n",
      "            \"contingency_table\": {\n",
      "                \"<=50K\": {\n",
      "                    \"Female\": 10141,\n",
      "                    \"Male\": 15918\n",
      "                },\n",
      "                \">50K\": {\n",
      "                    \"Female\": 1205,\n",
      "                    \"Male\": 6925\n",
      "                }\n",
      "            },\n",
      "            \"chi2\": 1621.2936175115615,\n",
      "            \"cramers_v\": 0.2177007921226585,\n",
      "            \"p\": 0.0,\n",
      "            \"dof\": 1,\n",
      "            \"expected\": {\n",
      "                \"1\": 8647.969054374214,\n",
      "                \"2\": 2698.030945625786,\n",
      "                \"3\": 17411.030945625786,\n",
      "                \"4\": 5431.969054374214\n",
      "            }\n",
      "        }\n",
      "    ],\n",
      "    \"mutual_information\": [\n",
      "        {\n",
      "            \"attribute1\": \"gender\",\n",
      "            \"attribute2\": \"income\",\n",
      "            \"mi\": 0.026275534510675616\n",
      "        }\n",
      "    ],\n",
      "    \"statistical_parity\": {\n",
      "        \"probabilities\": {\n",
      "            \">50K\": {\n",
      "                \"Male\": 0.30315632797793635,\n",
      "                \"Female\": 0.1062048298959986\n",
      "            }\n",
      "        },\n",
      "        \"metric\": {\n",
      "            \"gender\": {\n",
      "                \">50K\": {\n",
      "                    \"Male\": {\n",
      "                        \"Male\": 0.0,\n",
      "                        \"Female\": 0.19695149808193774\n",
      "                    }\n",
      "                },\n",
      "                \"metric\": 0.19695149808193774\n",
      "            }\n",
      "        }\n",
      "    },\n",
      "    \"disparate_impact\": {\n",
      "        \"probabilities\": {\n",
      "            \">50K\": {\n",
      "                \"Male\": 0.30315632797793635,\n",
      "                \"Female\": 0.1062048298959986\n",
      "            }\n",
      "        },\n",
      "        \"metric\": {\n",
      "            \"gender\": {\n",
      "                \">50K\": {\n",
      "                    \"Male\": {\n",
      "                        \"Male\": 1.0,\n",
      "                        \"Female\": 0.35033024250025935\n",
      "                    }\n",
      "                },\n",
      "                \"metric\": 0.35033024250025935\n",
      "            }\n",
      "        }\n",
      "    },\n",
      "    \"transform_dictionary\": {\n",
      "        \"income\": {\n",
      "            \"encode\": \"labeling\",\n",
      "            \"labels\": {\n",
      "                \"<=50K\": 0,\n",
      "                \">50K\": 1\n",
      "            }\n",
      "        },\n",
      "        \"gender\": {\n",
      "            \"encode\": \"labeling\",\n",
      "            \"labels\": {\n",
      "                \"Female\": 0,\n",
      "                \"Male\": 1\n",
      "            }\n",
      "        },\n",
      "        \"race\": {\n",
      "            \"encode\": \"labeling\",\n",
      "            \"labels\": {\n",
      "                \"Minority\": 0,\n",
      "                \"White\": 1\n",
      "            }\n",
      "        },\n",
      "        \"workclass\": {\n",
      "            \"encode\": \"labeling\",\n",
      "            \"scaling\": \"min-max\"\n",
      "        },\n",
      "        \"marital-status\": {\n",
      "            \"encode\": \"labeling\",\n",
      "            \"scaling\": \"min-max\"\n",
      "        },\n",
      "        \"occupation\": {\n",
      "            \"encode\": \"labeling\",\n",
      "            \"scaling\": \"min-max\"\n",
      "        },\n",
      "        \"relationship\": {\n",
      "            \"encode\": \"labeling\",\n",
      "            \"scaling\": \"min-max\"\n",
      "        },\n",
      "        \"native-country\": {\n",
      "            \"encode\": \"labeling\",\n",
      "            \"scaling\": \"min-max\"\n",
      "        },\n",
      "        \"age\": {\n",
      "            \"scaling\": \"standard\"\n",
      "        },\n",
      "        \"educational-num\": {\n",
      "            \"scaling\": \"min-max\"\n",
      "        },\n",
      "        \"capital-gain\": {\n",
      "            \"scaling\": \"standard\"\n",
      "        },\n",
      "        \"capital-loss\": {\n",
      "            \"scaling\": \"standard\"\n",
      "        },\n",
      "        \"hours-per-week\": {\n",
      "            \"scaling\": \"standard\"\n",
      "        }\n",
      "    }\n",
      "}\n"
     ]
    }
   ],
   "source": [
    "#display parameters file\n",
    "Aeq_training.display()\n",
    "\n",
    "#save paramenters file to remote server\n",
    "gw.save_element(Aeq_training_unbiased.parameters, element_key=\"dataset\", version=\"training\")"
   ]
  },
  {
   "cell_type": "code",
   "execution_count": 22,
   "metadata": {
    "ExecuteTime": {
     "end_time": "2023-10-15T21:02:31.368507Z",
     "start_time": "2023-10-15T21:02:29.313660Z"
    }
   },
   "outputs": [
    {
     "name": "stdout",
     "output_type": "stream",
     "text": [
      "Aequitas Dataset parameters:\n",
      "{\n",
      "    \"class_attribute\": {\n",
      "        \"name\": \"income\",\n",
      "        \"positive_value\": \">50K\"\n",
      "    },\n",
      "    \"sensitive_attributes\": [\n",
      "        {\n",
      "            \"name\": \"gender\",\n",
      "            \"privileged_group\": \"Male\"\n",
      "        }\n",
      "    ],\n",
      "    \"Mitigation\": \"False\",\n",
      "    \"transform_dictionary\": {\n",
      "        \"income\": {\n",
      "            \"encode\": \"labeling\",\n",
      "            \"labels\": {\n",
      "                \"<=50K\": 0,\n",
      "                \">50K\": 1\n",
      "            }\n",
      "        },\n",
      "        \"gender\": {\n",
      "            \"encode\": \"labeling\",\n",
      "            \"labels\": {\n",
      "                \"Female\": 0,\n",
      "                \"Male\": 1\n",
      "            }\n",
      "        },\n",
      "        \"race\": {\n",
      "            \"encode\": \"labeling\",\n",
      "            \"labels\": {\n",
      "                \"Minority\": 0,\n",
      "                \"White\": 1\n",
      "            }\n",
      "        },\n",
      "        \"workclass\": {\n",
      "            \"encode\": \"labeling\",\n",
      "            \"scaling\": \"min-max\"\n",
      "        },\n",
      "        \"marital-status\": {\n",
      "            \"encode\": \"labeling\",\n",
      "            \"scaling\": \"min-max\"\n",
      "        },\n",
      "        \"occupation\": {\n",
      "            \"encode\": \"labeling\",\n",
      "            \"scaling\": \"min-max\"\n",
      "        },\n",
      "        \"relationship\": {\n",
      "            \"encode\": \"labeling\",\n",
      "            \"scaling\": \"min-max\"\n",
      "        },\n",
      "        \"native-country\": {\n",
      "            \"encode\": \"labeling\",\n",
      "            \"scaling\": \"min-max\"\n",
      "        },\n",
      "        \"age\": {\n",
      "            \"scaling\": \"standard\"\n",
      "        },\n",
      "        \"educational-num\": {\n",
      "            \"scaling\": \"min-max\"\n",
      "        },\n",
      "        \"capital-gain\": {\n",
      "            \"scaling\": \"standard\"\n",
      "        },\n",
      "        \"capital-loss\": {\n",
      "            \"scaling\": \"standard\"\n",
      "        },\n",
      "        \"hours-per-week\": {\n",
      "            \"scaling\": \"standard\"\n",
      "        }\n",
      "    },\n",
      "    \"equal_opportunity\": {\n",
      "        \"probabilities\": {\n",
      "            \"Female\": {\n",
      "                \"TP\": 404,\n",
      "                \"TN\": 3611,\n",
      "                \"FP\": 671,\n",
      "                \"FN\": 160,\n",
      "                \"TPR\": 0.7163120567375887,\n",
      "                \"TNR\": 0.8432975245212517,\n",
      "                \"FPR\": 0.15670247547874824,\n",
      "                \"FNR\": 0.28368794326241137,\n",
      "                \"FDR\": 0.6241860465116279,\n",
      "                \"FOR\": 0.042429063908777515,\n",
      "                \"PPV\": 0.3758139534883721,\n",
      "                \"NPV\": 0.9575709360912225,\n",
      "                \"RPP\": 0.2218324391250516,\n",
      "                \"RNP\": 0.7781675608749484,\n",
      "                \"ACC\": 0.828518365662402\n",
      "            },\n",
      "            \"Male\": {\n",
      "                \"TP\": 1461,\n",
      "                \"TN\": 6266,\n",
      "                \"FP\": 548,\n",
      "                \"FN\": 1532,\n",
      "                \"TPR\": 0.48813899097895086,\n",
      "                \"TNR\": 0.919577340769005,\n",
      "                \"FPR\": 0.08042265923099501,\n",
      "                \"FNR\": 0.5118610090210491,\n",
      "                \"FDR\": 0.27277252364360377,\n",
      "                \"FOR\": 0.19646063093100796,\n",
      "                \"PPV\": 0.7272274763563962,\n",
      "                \"NPV\": 0.803539369068992,\n",
      "                \"RPP\": 0.20485367594575304,\n",
      "                \"RNP\": 0.795146324054247,\n",
      "                \"ACC\": 0.7879065973284388\n",
      "            }\n",
      "        },\n",
      "        \"metric\": {\n",
      "            \"gender\": {\n",
      "                \"analysis\": {\n",
      "                    \"Male\": {\n",
      "                        \"Female\": -0.22817306575863783,\n",
      "                        \"Male\": 0.0\n",
      "                    }\n",
      "                },\n",
      "                \"metric\": -0.22817306575863783\n",
      "            }\n",
      "        }\n",
      "    },\n",
      "    \"equal_odds\": {\n",
      "        \"confusion_metrics\": {\n",
      "            \"Female\": {\n",
      "                \"TP\": 404,\n",
      "                \"TN\": 3611,\n",
      "                \"FP\": 671,\n",
      "                \"FN\": 160,\n",
      "                \"TPR\": 0.7163120567375887,\n",
      "                \"TNR\": 0.8432975245212517,\n",
      "                \"FPR\": 0.15670247547874824,\n",
      "                \"FNR\": 0.28368794326241137,\n",
      "                \"FDR\": 0.6241860465116279,\n",
      "                \"FOR\": 0.042429063908777515,\n",
      "                \"PPV\": 0.3758139534883721,\n",
      "                \"NPV\": 0.9575709360912225,\n",
      "                \"RPP\": 0.2218324391250516,\n",
      "                \"RNP\": 0.7781675608749484,\n",
      "                \"ACC\": 0.828518365662402\n",
      "            },\n",
      "            \"Male\": {\n",
      "                \"TP\": 1461,\n",
      "                \"TN\": 6266,\n",
      "                \"FP\": 548,\n",
      "                \"FN\": 1532,\n",
      "                \"TPR\": 0.48813899097895086,\n",
      "                \"TNR\": 0.919577340769005,\n",
      "                \"FPR\": 0.08042265923099501,\n",
      "                \"FNR\": 0.5118610090210491,\n",
      "                \"FDR\": 0.27277252364360377,\n",
      "                \"FOR\": 0.19646063093100796,\n",
      "                \"PPV\": 0.7272274763563962,\n",
      "                \"NPV\": 0.803539369068992,\n",
      "                \"RPP\": 0.20485367594575304,\n",
      "                \"RNP\": 0.795146324054247,\n",
      "                \"ACC\": 0.7879065973284388\n",
      "            }\n",
      "        },\n",
      "        \"metric\": {\n",
      "            \"gender\": {\n",
      "                \"analysis\": {\n",
      "                    \"Male\": {\n",
      "                        \"Female\": -0.07594662475544228,\n",
      "                        \"Male\": 0.0\n",
      "                    }\n",
      "                },\n",
      "                \"metric\": -0.07594662475544228\n",
      "            }\n",
      "        }\n",
      "    }\n",
      "}\n"
     ]
    }
   ],
   "source": [
    "#display parameters file\n",
    "Aeq_test.display()\n",
    "\n",
    "#save paramenters file to remote server\n",
    "gw.save_element(Aeq_training_unbiased.parameters, element_key=\"dataset\", version=\"test\")"
   ]
  },
  {
   "cell_type": "code",
   "execution_count": null,
   "metadata": {
    "collapsed": false
   },
   "outputs": [],
   "source": []
  }
 ],
 "metadata": {
  "kernelspec": {
   "display_name": "Python 3.11.5 ('aequitas')",
   "language": "python",
   "name": "python3"
  },
  "language_info": {
   "codemirror_mode": {
    "name": "ipython",
    "version": 3
   },
   "file_extension": ".py",
   "mimetype": "text/x-python",
   "name": "python",
   "nbconvert_exporter": "python",
   "pygments_lexer": "ipython3",
   "version": "3.11.5"
  },
  "orig_nbformat": 4,
  "vscode": {
   "interpreter": {
    "hash": "aafc4311810ab362ec8b20f1ad7cefee81be5411161712b32fbd26f1f27127c5"
   }
  }
 },
 "nbformat": 4,
 "nbformat_minor": 2
}
