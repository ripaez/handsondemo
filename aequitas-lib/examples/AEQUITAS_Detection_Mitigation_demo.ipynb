{
 "cells": [
  {
   "cell_type": "markdown",
   "metadata": {},
   "source": [
    "<img src=\"background_1.png\">"
   ]
  },
  {
   "cell_type": "markdown",
   "metadata": {},
   "source": [
    "<h1> AEQUITAS Hands-on Demonstrator </h1>"
   ]
  },
  {
   "cell_type": "markdown",
   "metadata": {},
   "source": [
    "<img src=\"background_3.png\">"
   ]
  },
  {
   "cell_type": "markdown",
   "metadata": {},
   "source": [
    "<h3> Libraries </h3>"
   ]
  },
  {
   "cell_type": "code",
   "execution_count": 4,
   "metadata": {
    "collapsed": false
   },
   "outputs": [],
   "source": [
    "import sys\n",
    "sys.path.append(\"../\")\n",
    "import numpy as np\n",
    "import matplotlib\n",
    "import pandas as pd\n",
    "pd.set_option('display.width', 500)\n",
    "from aequitas.engine import Aequitas, NpEncoder\n",
    "import aequitas.tools.data_manip as dm\n",
    "import aequitas.tools as tools\n",
    "from aequitas.gateway import Gateway"
   ]
  },
  {
   "cell_type": "markdown",
   "metadata": {},
   "source": [
    "<h3> Importing the dataset </h3>"
   ]
  },
  {
   "cell_type": "code",
   "execution_count": 5,
   "metadata": {
    "ExecuteTime": {
     "end_time": "2023-10-15T20:22:55.466902Z",
     "start_time": "2023-10-15T20:22:55.360907Z"
    }
   },
   "outputs": [],
   "source": [
    "dataset_name=\"IT_candidates.csv\"\n",
    "dataset_directory=\"../datasets/\"+dataset_name\n",
    "dataset = pd.read_csv(dataset_directory)"
   ]
  },
  {
   "cell_type": "markdown",
   "metadata": {},
   "source": [
    "<h3> Dataset pre-processing </h3>"
   ]
  },
  {
   "cell_type": "code",
   "execution_count": 6,
   "metadata": {
    "ExecuteTime": {
     "end_time": "2023-10-15T20:23:03.132898Z",
     "start_time": "2023-10-15T20:23:03.022402Z"
    }
   },
   "outputs": [],
   "source": [
    "# Dataset already preprocessed for missing values|\n",
    "dataset.drop(columns=dataset.columns[0],inplace=True)"
   ]
  },
  {
   "cell_type": "markdown",
   "metadata": {},
   "source": [
    "<h3> Examples of used of the AEQUITAS object </h3>"
   ]
  },
  {
   "cell_type": "markdown",
   "metadata": {},
   "source": [
    "<p> Example 1 - Empty parameters file </p>"
   ]
  },
  {
   "cell_type": "code",
   "execution_count": 6,
   "metadata": {
    "ExecuteTime": {
     "end_time": "2023-10-15T20:23:11.225443Z",
     "start_time": "2023-10-15T20:23:11.143450Z"
    }
   },
   "outputs": [
    {
     "name": "stdout",
     "output_type": "stream",
     "text": [
      "Dataset:\n",
      "        Column Name Data Type Column Type (suggestion)  Number_Values                                           Values\n",
      "0               Age      text                   Binary              2                                       [<35, >35]\n",
      "1     Accessibility      text                   Binary              2                                        [No, Yes]\n",
      "2           EdLevel      text      Categorical/Ordinal              5  [Master, Undergraduate, PhD, Other, NoHigherEd]\n",
      "3        Employment   float64                   Binary              2                                       [1.0, 0.0]\n",
      "4            Gender      text      Categorical/Ordinal              3                          [Man, Woman, NonBinary]\n",
      "..              ...       ...                      ...            ...                                              ...\n",
      "124  Play Framework   float64                   Binary              2                                       [0.0, 1.0]\n",
      "125         Phoenix   float64                   Binary              2                                       [0.0, 1.0]\n",
      "126           OCaml   float64                   Binary              2                                       [0.0, 1.0]\n",
      "127      Colocation   float64                   Binary              2                                       [0.0, 1.0]\n",
      "128        Solidity   float64                   Binary              2                                       [0.0, 1.0]\n",
      "\n",
      "[129 rows x 5 columns]\n"
     ]
    }
   ],
   "source": [
    "parameters={ }\n",
    "Aeq_dataset=Aequitas(dataset,parameters)\n",
    "Aeq_dataset.structure(verbose=True)"
   ]
  },
  {
   "cell_type": "markdown",
   "metadata": {},
   "source": [
    "<p> Example 2 - Basic parameters file </p>"
   ]
  },
  {
   "cell_type": "code",
   "execution_count": 7,
   "metadata": {
    "ExecuteTime": {
     "end_time": "2023-10-15T20:23:12.648974Z",
     "start_time": "2023-10-15T20:23:12.624375Z"
    }
   },
   "outputs": [
    {
     "name": "stdout",
     "output_type": "stream",
     "text": [
      "Proportions: (Employed)\n",
      "              0\n",
      "True   0.536721\n",
      "False  0.463279\n",
      "\n"
     ]
    }
   ],
   "source": [
    "parameters={\n",
    "    \"class_attribute\":{\n",
    "        \"name\": 'Employed',\n",
    "    },\n",
    "}\n",
    "Aeq_dataset=Aequitas(dataset,parameters)\n",
    "Aeq_dataset.descriptive_stats(verbose=True)"
   ]
  },
  {
   "cell_type": "markdown",
   "metadata": {},
   "source": [
    "<p> Example 3 - Parameters file with sensitive attribute definition</p>"
   ]
  },
  {
   "cell_type": "code",
   "execution_count": 8,
   "metadata": {
    "ExecuteTime": {
     "end_time": "2023-10-15T20:23:13.900939Z",
     "start_time": "2023-10-15T20:23:13.535939Z"
    }
   },
   "outputs": [
    {
     "name": "stdout",
     "output_type": "stream",
     "text": [
      "Proportions: (Employed)\n",
      "              0\n",
      "True   0.536721\n",
      "False  0.463279\n",
      "\n",
      "Proportions: (Gender)\n",
      "                  0\n",
      "Man        0.933539\n",
      "Woman      0.047794\n",
      "NonBinary  0.018668\n",
      "\n",
      "Proportions: (Age)\n",
      "            0\n",
      "<35  0.650949\n",
      ">35  0.349051\n",
      "\n",
      "Outcome distribution by group:\n",
      "              True      False\n",
      "Man        0.541235  0.458765\n",
      "NonBinary  0.533966  0.466034\n",
      "Woman      0.449643  0.550357\n",
      "\n",
      "Outcome distribution by group:\n",
      "        True      False\n",
      "<35  0.547803  0.452197\n",
      ">35  0.516056  0.483944\n",
      "\n",
      "\n",
      "Association between Gender and Age.\n",
      "Contingency Table:\n",
      "Age          <35    >35\n",
      "Gender                 \n",
      "Man        44273  24189\n",
      "NonBinary    895    474\n",
      "Woman       2570    935\n",
      "\n",
      "Chi-squared statistic: 109.99624855978593\n",
      "Cramer's V: 0.03837502151091483\n",
      "Degrees of Freedom: 2\n",
      "p-value: 1.3020213636227068e-24\n",
      "There is a statistically significant association between Gender and Age.\n",
      "\n",
      "Association between Gender and Employed.\n",
      "Contingency Table:\n",
      "Employed   False  True \n",
      "Gender                 \n",
      "Man        31408  37054\n",
      "NonBinary    638    731\n",
      "Woman       1929   1576\n",
      "\n",
      "Chi-squared statistic: 112.53426923442824\n",
      "Cramer's V: 0.038823328840361736\n",
      "Degrees of Freedom: 2\n",
      "p-value: 3.6601081920180026e-25\n",
      "There is a statistically significant association between Gender and Employed.\n",
      "\n",
      "Association between Age and Employed.\n",
      "Contingency Table:\n",
      "Employed  False  True \n",
      "Age                   \n",
      "<35       21587  26151\n",
      ">35       12388  13210\n",
      "\n",
      "Chi-squared statistic: 67.41185028404158\n",
      "Cramer's V: 0.030093111715907988\n",
      "Degrees of Freedom: 1\n",
      "p-value: 2.2032070239485714e-16\n",
      "There is a statistically significant association between Age and Employed.\n",
      "Mutual Information between Gender and Age: 0.0007814659211559868\n",
      "Mutual Information between Gender and Employed: 0.000764735980150498\n",
      "Mutual Information between Age and Employed: 0.0004601457561739797\n"
     ]
    }
   ],
   "source": [
    "parameters={\n",
    "    \"class_attribute\":{\n",
    "        \"name\": 'Employed',\n",
    "        \"positive_value\":'True'\n",
    "    },\n",
    "    \"sensitive_attributes\":\n",
    "    [\n",
    "        {\n",
    "            \"name\": 'Gender',\n",
    "        },\n",
    "        {\n",
    "            \"name\": 'Age',\n",
    "        }\n",
    "    ]\n",
    "}\n",
    "Aeq_dataset=Aequitas(dataset,parameters)\n",
    "Aeq_dataset.descriptive_stats(verbose=True)"
   ]
  },
  {
   "cell_type": "markdown",
   "metadata": {},
   "source": [
    "<p> First connection with the context engine </p>"
   ]
  },
  {
   "cell_type": "code",
   "execution_count": 9,
   "metadata": {
    "ExecuteTime": {
     "end_time": "2023-10-15T20:55:26.051283Z",
     "start_time": "2023-10-15T20:55:23.956287Z"
    },
    "collapsed": false
   },
   "outputs": [],
   "source": [
    "gw = Gateway('demonstrator', host='http://localhost:6060/')\n",
    "fs_only = False\n",
    "gw.save_element(Aeq_dataset.parameters, element_key=\"dataset\", filesystem=fs_only)"
   ]
  },
  {
   "cell_type": "code",
   "execution_count": 10,
   "metadata": {},
   "outputs": [
    {
     "data": {
      "text/plain": [
       "array([[<Axes: title={'center': 'YearsCode'}>,\n",
       "        <Axes: title={'center': 'YearsCodePro'}>],\n",
       "       [<Axes: title={'center': 'PreviousSalary'}>,\n",
       "        <Axes: title={'center': 'ComputerSkills'}>]], dtype=object)"
      ]
     },
     "execution_count": 10,
     "metadata": {},
     "output_type": "execute_result"
    },
    {
     "data": {
      "image/png": "[encoded data removed]",
      "text/plain": [
       "<Figure size 1600x800 with 4 Axes>"
      ]
     },
     "metadata": {},
     "output_type": "display_data"
    }
   ],
   "source": [
    "## Pushing gaussian distributions before the creation of the objects\n",
    "numerical = dataset.select_dtypes('number').iloc[:,1:5]\n",
    "numerical.hist(bins=50,figsize=(16,8))"
   ]
  },
  {
   "cell_type": "code",
   "execution_count": 11,
   "metadata": {},
   "outputs": [
    {
     "data": {
      "text/plain": [
       "array([[<Axes: title={'center': 'YearsCode'}>,\n",
       "        <Axes: title={'center': 'YearsCodePro'}>],\n",
       "       [<Axes: title={'center': 'PreviousSalary'}>,\n",
       "        <Axes: title={'center': 'ComputerSkills'}>]], dtype=object)"
      ]
     },
     "execution_count": 11,
     "metadata": {},
     "output_type": "execute_result"
    },
    {
     "data": {
      "image/png": "[encoded data removed]",
      "text/plain": [
       "<Figure size 1600x800 with 4 Axes>"
      ]
     },
     "metadata": {},
     "output_type": "display_data"
    }
   ],
   "source": [
    "dataset['YearsCode']=numerical.YearsCode.apply(np.sqrt)\n",
    "dataset['YearsCodePro']=numerical.YearsCodePro.apply(np.sqrt)\n",
    "dataset['PreviousSalary']=numerical.PreviousSalary.apply(np.sqrt)\n",
    "dataset['ComputerSkills']=numerical.ComputerSkills.apply(np.sqrt)\n",
    "dataset.select_dtypes('number').iloc[:,1:5].hist(bins=15,figsize=(16,8))"
   ]
  },
  {
   "cell_type": "markdown",
   "metadata": {},
   "source": [
    "<h2> Fairness analysis </h2>"
   ]
  },
  {
   "cell_type": "markdown",
   "metadata": {},
   "source": [
    "<p> Splitting in training and testing samples </p>"
   ]
  },
  {
   "cell_type": "code",
   "execution_count": 12,
   "metadata": {
    "ExecuteTime": {
     "end_time": "2023-10-15T20:23:20.576782Z",
     "start_time": "2023-10-15T20:23:20.556945Z"
    }
   },
   "outputs": [],
   "source": [
    "training_sample,test_sample = dm.split_dataset(dataset,ratio=0.3, random_state=42)"
   ]
  },
  {
   "cell_type": "markdown",
   "metadata": {},
   "source": [
    "<p> Definition of parameter file</p>"
   ]
  },
  {
   "cell_type": "code",
   "execution_count": 13,
   "metadata": {
    "ExecuteTime": {
     "end_time": "2023-10-15T20:23:22.120735Z",
     "start_time": "2023-10-15T20:23:22.102236Z"
    }
   },
   "outputs": [],
   "source": [
    "parameters={\n",
    "    \"class_attribute\":{\n",
    "        \"name\": 'Employed',\n",
    "        \"positive_value\":'True'\n",
    "    },\n",
    "    \"sensitive_attributes\":\n",
    "    [\n",
    "        {\n",
    "            \"name\": 'Gender',\n",
    "        }\n",
    "    ]\n",
    "}"
   ]
  },
  {
   "cell_type": "markdown",
   "metadata": {},
   "source": [
    "<p> Definition of the corresponding AEQUITAS Objects</p>"
   ]
  },
  {
   "cell_type": "code",
   "execution_count": 14,
   "metadata": {},
   "outputs": [],
   "source": [
    "Aeq_training=Aequitas(training_sample,parameters)\n",
    "Aeq_test=Aequitas(test_sample,parameters)"
   ]
  },
  {
   "cell_type": "code",
   "execution_count": 15,
   "metadata": {
    "ExecuteTime": {
     "end_time": "2023-10-15T20:23:23.618618Z",
     "start_time": "2023-10-15T20:23:23.356622Z"
    }
   },
   "outputs": [
    {
     "name": "stdout",
     "output_type": "stream",
     "text": [
      "Dataset:\n",
      "        Column Name Data Type Column Type (suggestion)  Number_Values                                           Values\n",
      "0               Age      text                   Binary              2                                       [<35, >35]\n",
      "1     Accessibility      text                   Binary              2                                        [No, Yes]\n",
      "2           EdLevel      text      Categorical/Ordinal              5  [Master, Undergraduate, Other, PhD, NoHigherEd]\n",
      "3        Employment   float64                   Binary              2                                       [1.0, 0.0]\n",
      "4            Gender      text      Categorical/Ordinal              3                          [Man, Woman, NonBinary]\n",
      "..              ...       ...                      ...            ...                                              ...\n",
      "124  Play Framework   float64                   Binary              2                                       [0.0, 1.0]\n",
      "125         Phoenix   float64                   Binary              2                                       [0.0, 1.0]\n",
      "126           OCaml   float64                   Binary              2                                       [0.0, 1.0]\n",
      "127      Colocation   float64                   Binary              2                                       [0.0, 1.0]\n",
      "128        Solidity   float64                   Binary              2                                       [0.0, 1.0]\n",
      "\n",
      "[129 rows x 5 columns]\n"
     ]
    }
   ],
   "source": [
    "Aeq_training.structure(verbose=True)\n",
    "Aeq_training.descriptive_stats()"
   ]
  },
  {
   "cell_type": "markdown",
   "metadata": {},
   "source": [
    "<p> Bias metrics: Statistical Parity and Disparate Impact</p>"
   ]
  },
  {
   "cell_type": "code",
   "execution_count": 16,
   "metadata": {},
   "outputs": [
    {
     "name": "stdout",
     "output_type": "stream",
     "text": [
      "Probabilities:\n",
      "           Man     Woman  NonBinary\n",
      "False  0.45804  0.555419   0.464894\n",
      "True   0.54196  0.444581   0.535106\n",
      "\n",
      "Statistical/Demographic Parity:\n",
      "Outcome:  False\n",
      "                Man     Woman  NonBinary\n",
      "Man        0.000000 -0.097380  -0.006854\n",
      "Woman      0.097380  0.000000   0.090526\n",
      "NonBinary  0.006854 -0.090526   0.000000\n",
      "\n",
      "Outcome:  True\n",
      "                Man     Woman  NonBinary\n",
      "Man        0.000000  0.097380   0.006854\n",
      "Woman     -0.097380  0.000000  -0.090526\n",
      "NonBinary -0.006854  0.090526   0.000000\n",
      "\n",
      "\n"
     ]
    }
   ],
   "source": [
    "Aeq_training.statistical_parity(verbose=True)"
   ]
  },
  {
   "cell_type": "code",
   "execution_count": 17,
   "metadata": {},
   "outputs": [
    {
     "name": "stdout",
     "output_type": "stream",
     "text": [
      "Probabilities:\n",
      "           Man     Woman  NonBinary\n",
      "False  0.45804  0.555419   0.464894\n",
      "True   0.54196  0.444581   0.535106\n",
      "\n",
      "Disparate Impact:\n",
      "Outcome:  False\n",
      "                Man     Woman  NonBinary\n",
      "Man        1.000000  1.212601   1.014964\n",
      "Woman      0.824674  1.000000   0.837014\n",
      "NonBinary  0.985257  1.194723   1.000000\n",
      "\n",
      "Outcome:  True\n",
      "                Man     Woman  NonBinary\n",
      "Man        1.000000  0.820320   0.987353\n",
      "Woman      1.219037  1.000000   1.203620\n",
      "NonBinary  1.012809  0.830827   1.000000\n",
      "\n",
      "\n"
     ]
    }
   ],
   "source": [
    "Aeq_training.disparate_impact(verbose=True)"
   ]
  },
  {
   "cell_type": "code",
   "execution_count": 18,
   "metadata": {
    "ExecuteTime": {
     "end_time": "2023-10-15T20:23:26.159796Z",
     "start_time": "2023-10-15T20:23:26.137242Z"
    }
   },
   "outputs": [],
   "source": [
    "# # Define appropriate transformations for dataset\n",
    "# transform_dictionary = {\n",
    "#     \"income\": {\n",
    "#         \"encode\": \"labeling\",\n",
    "#         \"labels\": {\n",
    "#             \"<=50K\": 0,\n",
    "#             \">50K\": 1, \n",
    "#         }\n",
    "#     },\n",
    "#     \"gender\": {\n",
    "#         \"encode\": \"labeling\",\n",
    "#         \"labels\": {\n",
    "#             \"Female\": 0,\n",
    "#             \"Male\": 1, \n",
    "#         }\n",
    "#     },\n",
    "#     \"race\": {\n",
    "#         \"encode\": \"labeling\",\n",
    "#         \"labels\": {\n",
    "#             \"Minority\": 0,\n",
    "#             \"White\": 1, \n",
    "#         } \n",
    "#     },\n",
    "#     \"workclass\": {\n",
    "#         \"encode\": \"labeling\",\n",
    "#         \"scaling\": \"min-max\"\n",
    "#     },\n",
    "#     \"marital-status\": {\n",
    "#         \"encode\": \"labeling\",\n",
    "#         \"scaling\": \"min-max\"\n",
    "#     },\n",
    "#     \"occupation\": {\n",
    "#         \"encode\": \"labeling\", \n",
    "#         \"scaling\": \"min-max\"\n",
    "#     },\n",
    "#     \"relationship\": {\n",
    "#         \"encode\": \"labeling\", \n",
    "#         \"scaling\": \"min-max\"\n",
    "#     },\n",
    "#     \"native-country\": {\n",
    "#         \"encode\": \"labeling\", \n",
    "#         \"scaling\": \"min-max\"\n",
    "#     },\n",
    "#     \"age\":{\n",
    "#         \"scaling\": \"standard\"\n",
    "#     },\n",
    "#     \"educational-num\":{\n",
    "#         \"scaling\": \"min-max\"\n",
    "#     },\n",
    "#     \"capital-gain\":{\n",
    "#         \"scaling\": \"standard\"\n",
    "#     },\n",
    "#     \"capital-loss\":{\n",
    "#         \"scaling\": \"standard\"\n",
    "#     },\n",
    "#     \"hours-per-week\":{\n",
    "#         \"scaling\": \"standard\"\n",
    "#     }\n",
    "# }\n",
    "\n",
    "# # add transform instructions for techniques\n",
    "# Aeq_training.transform_instructions(transform_dictionary)\n",
    "# Aeq_test.transform_instructions(transform_dictionary)"
   ]
  },
  {
   "cell_type": "markdown",
   "metadata": {},
   "source": [
    "<p> Transformation in the data for algorithmic correct processing</p>"
   ]
  },
  {
   "cell_type": "code",
   "execution_count": 19,
   "metadata": {},
   "outputs": [],
   "source": [
    "transform_dictionary = {\n",
    "    \"Age\": {\n",
    "        \"encode\": \"labeling\",\n",
    "    },\n",
    "    \"Accessibility\": {\n",
    "        \"encode\": \"labeling\"\n",
    "    },\n",
    "    \"EdLevel\": {\n",
    "        \"encode\": \"labeling\" #Definitely should be one-hot encoding\n",
    "    },\n",
    "    \"Employment\": {\n",
    "        \"encode\": \"labeling\"\n",
    "    },\n",
    "    # \"Gender\": {\n",
    "    #     \"encode\": \"one-hot\"\n",
    "    # },\n",
    "    \"Gender\": {\n",
    "        \"encode\": \"labeling\",\n",
    "        \"labels\": {\n",
    "            \"Female\": 0,\n",
    "            \"NonBinary\": 0,\n",
    "            \"Male\": 1, \n",
    "        }\n",
    "    },\n",
    "    \"MentalHealth\": {\n",
    "        \"encode\": \"labeling\"\n",
    "    },\n",
    "    \"MainBranch\": {\n",
    "        \"encode\": \"labeling\" \n",
    "    },\n",
    "    \"YearsCode\": {\n",
    "        \"scaling\": \"standard\"\n",
    "    },\n",
    "    \"YearsCodePro\":{\n",
    "        \"scaling\": \"standard\"\n",
    "    },\n",
    "    \"Country\":{\n",
    "        \"encode\": \"labeling\" #Definitely should be one-hot encoding\n",
    "    },\n",
    "    \"PreviousSalary\":{\n",
    "        \"scaling\": \"standard\"\n",
    "    },\n",
    "    \"ComputerSkills\":{\n",
    "        \"scaling\": \"standard\"\n",
    "    },\n",
    "}"
   ]
  },
  {
   "cell_type": "markdown",
   "metadata": {},
   "source": [
    "\n",
    "<p> Exporting transformation instructions for the two sets </p>"
   ]
  },
  {
   "cell_type": "code",
   "execution_count": 20,
   "metadata": {},
   "outputs": [],
   "source": [
    "Aeq_training.transform_instructions(transform_dictionary)\n",
    "Aeq_test.transform_instructions(transform_dictionary)"
   ]
  },
  {
   "cell_type": "markdown",
   "metadata": {},
   "source": [
    "<p> Appliying 'Massaging' to training dataset over the sensitive attribute 'Gender' and class 'Employed'</p>"
   ]
  },
  {
   "cell_type": "code",
   "execution_count": 21,
   "metadata": {
    "ExecuteTime": {
     "end_time": "2023-10-15T20:23:28.660081Z",
     "start_time": "2023-10-15T20:23:27.562393Z"
    }
   },
   "outputs": [
    {
     "name": "stderr",
     "output_type": "stream",
     "text": [
      "/Users/rpaez/AEQUITAS/WP4/handsondemo/aequitas-lib/examples/../aequitas/mitigation/data.py:110: FutureWarning: Setting an item of incompatible dtype is deprecated and will raise in a future error of pandas. Value '0' has dtype incompatible with bool, please explicitly cast to a compatible dtype first.\n",
      "  modified_data.loc[promotion[i],class_attribute]=0\n"
     ]
    }
   ],
   "source": [
    "Aeq_training_unbiased=Aeq_training.mitigation(method='massaging', sensitive_attribute='Gender')"
   ]
  },
  {
   "cell_type": "markdown",
   "metadata": {},
   "source": [
    "<p> Re-evaluating Statistical Parity for comparison </p>"
   ]
  },
  {
   "cell_type": "code",
   "execution_count": 22,
   "metadata": {},
   "outputs": [
    {
     "name": "stdout",
     "output_type": "stream",
     "text": [
      "Probabilities:\n",
      "           Man     Woman  NonBinary\n",
      "False  0.45804  0.555419   0.464894\n",
      "True   0.54196  0.444581   0.535106\n",
      "\n",
      "Statistical/Demographic Parity:\n",
      "Outcome:  False\n",
      "                Man     Woman  NonBinary\n",
      "Man        0.000000 -0.097380  -0.006854\n",
      "Woman      0.097380  0.000000   0.090526\n",
      "NonBinary  0.006854 -0.090526   0.000000\n",
      "\n",
      "Outcome:  True\n",
      "                Man     Woman  NonBinary\n",
      "Man        0.000000  0.097380   0.006854\n",
      "Woman     -0.097380  0.000000  -0.090526\n",
      "NonBinary -0.006854  0.090526   0.000000\n",
      "\n",
      "\n"
     ]
    }
   ],
   "source": [
    "Aeq_training.statistical_parity(verbose=True)"
   ]
  },
  {
   "cell_type": "code",
   "execution_count": 23,
   "metadata": {},
   "outputs": [
    {
     "name": "stdout",
     "output_type": "stream",
     "text": [
      "Probabilities:\n",
      "            Man     Woman  NonBinary\n",
      "False  0.456371  0.555419       0.55\n",
      "True   0.543629  0.444581       0.45\n",
      "\n",
      "Statistical/Demographic Parity:\n",
      "Outcome:  False\n",
      "                Man     Woman  NonBinary\n",
      "Man        0.000000 -0.099048  -0.093629\n",
      "Woman      0.099048  0.000000   0.005419\n",
      "NonBinary  0.093629 -0.005419   0.000000\n",
      "\n",
      "Outcome:  True\n",
      "                Man     Woman  NonBinary\n",
      "Man        0.000000  0.099048   0.093629\n",
      "Woman     -0.099048  0.000000  -0.005419\n",
      "NonBinary -0.093629  0.005419   0.000000\n",
      "\n",
      "\n"
     ]
    }
   ],
   "source": [
    "Aeq_training_unbiased.statistical_parity(verbose=True)"
   ]
  },
  {
   "cell_type": "markdown",
   "metadata": {},
   "source": [
    "<h3> Classification task over test sample </h3>"
   ]
  },
  {
   "cell_type": "code",
   "execution_count": 24,
   "metadata": {},
   "outputs": [],
   "source": [
    "Aeq_training_unbiased.transform()\n",
    "Aeq_test.transform()"
   ]
  },
  {
   "cell_type": "code",
   "execution_count": 25,
   "metadata": {},
   "outputs": [
    {
     "name": "stdout",
     "output_type": "stream",
     "text": [
      "Dataset:\n",
      "        Column Name Data Type Column Type (suggestion)  Number_Values           Values\n",
      "0               Age     int64                   Binary              2           [1, 0]\n",
      "1     Accessibility     int64                   Binary              2           [0, 1]\n",
      "2           EdLevel     int64      Categorical/Ordinal              5  [0, 2, 4, 1, 3]\n",
      "3        Employment     int64                   Binary              2           [1, 0]\n",
      "4            Gender     int64      Categorical/Ordinal              3        [0, 2, 1]\n",
      "..              ...       ...                      ...            ...              ...\n",
      "124  Play Framework   float64                   Binary              2       [0.0, 1.0]\n",
      "125         Phoenix   float64                   Binary              2       [0.0, 1.0]\n",
      "126           OCaml   float64                   Binary              2       [0.0, 1.0]\n",
      "127      Colocation   float64                   Binary              2       [0.0, 1.0]\n",
      "128        Solidity   float64                   Binary              2       [0.0, 1.0]\n",
      "\n",
      "[129 rows x 5 columns]\n"
     ]
    }
   ],
   "source": [
    "Aeq_test.structure(verbose=True)\n",
    "lista = Aeq_test.dataset.columns"
   ]
  },
  {
   "cell_type": "markdown",
   "metadata": {},
   "source": [
    "<p> Define classifier parameters </p>"
   ]
  },
  {
   "cell_type": "code",
   "execution_count": 26,
   "metadata": {
    "ExecuteTime": {
     "end_time": "2023-10-15T20:23:29.820777Z",
     "start_time": "2023-10-15T20:23:29.586779Z"
    }
   },
   "outputs": [],
   "source": [
    "classifier_type=\"Decision_Tree\"\n",
    "classifier_params={\n",
    "    \"random_state\":42, \n",
    "    \"min_samples_leaf\":10\n",
    "}\n",
    "class_attribute=Aeq_training_unbiased.parameters[\"class_attribute\"][\"name\"]"
   ]
  },
  {
   "cell_type": "markdown",
   "metadata": {},
   "source": [
    "<p> Training and testing of the classifier</p>"
   ]
  },
  {
   "cell_type": "code",
   "execution_count": 27,
   "metadata": {},
   "outputs": [
    {
     "name": "stdout",
     "output_type": "stream",
     "text": [
      "Classifier Accuracy: 0.74\n"
     ]
    }
   ],
   "source": [
    "clf=tools.train_classifier(Aeq_training_unbiased.dataset,class_attribute,classifier_type,classifier_params)\n",
    "\n",
    "predicted_test_sample, _, _, _= tools.test_classifier(clf,Aeq_test.dataset,class_attribute,verbose=True)\n",
    "\n",
    "Aeq_training_unbiased.inverse_transform()\n",
    "Aeq_test.inverse_transform()"
   ]
  },
  {
   "cell_type": "markdown",
   "metadata": {},
   "source": [
    "<p> Defining a new prediction on the test sample</p>"
   ]
  },
  {
   "cell_type": "code",
   "execution_count": 28,
   "metadata": {
    "ExecuteTime": {
     "end_time": "2023-10-15T20:23:30.977919Z",
     "start_time": "2023-10-15T20:23:30.912705Z"
    }
   },
   "outputs": [],
   "source": [
    "Aeq_predicted_test=Aeq_test.copy()\n",
    "Aeq_predicted_test.set_dataset(predicted_test_sample)\n",
    "Aeq_predicted_test.inverse_transform()"
   ]
  },
  {
   "cell_type": "markdown",
   "metadata": {},
   "source": [
    "<p> Checking statistical parity on the new prediction <p>"
   ]
  },
  {
   "cell_type": "code",
   "execution_count": 29,
   "metadata": {},
   "outputs": [
    {
     "name": "stdout",
     "output_type": "stream",
     "text": [
      "Probabilities:\n",
      "        Man     Woman  NonBinary\n",
      "1  0.533103  0.450943   0.531469\n",
      "0  0.466897  0.549057   0.468531\n",
      "\n",
      "Statistical/Demographic Parity:\n",
      "Outcome:  1\n",
      "                Man     Woman  NonBinary\n",
      "Man        0.000000  0.082159   0.001634\n",
      "Woman     -0.082159  0.000000  -0.080525\n",
      "NonBinary -0.001634  0.080525   0.000000\n",
      "\n",
      "Outcome:  0\n",
      "                Man     Woman  NonBinary\n",
      "Man        0.000000 -0.082159  -0.001634\n",
      "Woman      0.082159  0.000000   0.080525\n",
      "NonBinary  0.001634 -0.080525   0.000000\n",
      "\n",
      "\n"
     ]
    }
   ],
   "source": [
    "Aeq_predicted_test.statistical_parity(verbose=True)"
   ]
  },
  {
   "cell_type": "markdown",
   "metadata": {},
   "source": [
    "<p> Computing Equalized Odds on the prediction results</p>"
   ]
  },
  {
   "cell_type": "code",
   "execution_count": 30,
   "metadata": {
    "ExecuteTime": {
     "end_time": "2023-10-15T20:23:33.639826Z",
     "start_time": "2023-10-15T20:23:33.460329Z"
    }
   },
   "outputs": [
    {
     "name": "stdout",
     "output_type": "stream",
     "text": [
      "Confusion Metrics:  (Positive_outcome='True')\n",
      "             Man   NonBinary       Woman\n",
      "TP   8342.000000  173.000000  342.000000\n",
      "TN   6852.000000  146.000000  435.000000\n",
      "FP   2593.000000   55.000000  136.000000\n",
      "FN   2725.000000   55.000000  147.000000\n",
      "TPR     0.753772    0.758772    0.699387\n",
      "TNR     0.725463    0.726368    0.761821\n",
      "FPR     0.274537    0.273632    0.238179\n",
      "FNR     0.246228    0.241228    0.300613\n",
      "FDR     0.237128    0.241228    0.284519\n",
      "FOR     0.284536    0.273632    0.252577\n",
      "PPV     0.762872    0.758772    0.715481\n",
      "NPV     0.715464    0.726368    0.747423\n",
      "RPP     0.533103    0.531469    0.450943\n",
      "RNP     0.466897    0.468531    0.549057\n",
      "ACC     0.740737    0.743590    0.733019\n",
      "Equality of Opportunity:  (Positive_outcome='True')\n",
      "            Man  NonBinary  Woman\n",
      "Woman -0.054386  -0.059385    0.0\n",
      "\n",
      "Confusion Metrics:  (Positive_outcome='True')\n",
      "             Man   NonBinary       Woman\n",
      "TP   8342.000000  173.000000  342.000000\n",
      "TN   6852.000000  146.000000  435.000000\n",
      "FP   2593.000000   55.000000  136.000000\n",
      "FN   2725.000000   55.000000  147.000000\n",
      "TPR     0.753772    0.758772    0.699387\n",
      "TNR     0.725463    0.726368    0.761821\n",
      "FPR     0.274537    0.273632    0.238179\n",
      "FNR     0.246228    0.241228    0.300613\n",
      "FDR     0.237128    0.241228    0.284519\n",
      "FOR     0.284536    0.273632    0.252577\n",
      "PPV     0.762872    0.758772    0.715481\n",
      "NPV     0.715464    0.726368    0.747423\n",
      "RPP     0.533103    0.531469    0.450943\n",
      "RNP     0.466897    0.468531    0.549057\n",
      "ACC     0.740737    0.743590    0.733019\n",
      "Equal Odds:  (Positive_outcome='True')\n",
      "            Man  NonBinary  Woman\n",
      "Woman -0.009014  -0.011966    0.0\n",
      "\n"
     ]
    }
   ],
   "source": [
    "prediction=np.array(Aeq_predicted_test.dataset[class_attribute])\n",
    "Aeq_test.equal_opportunity(prediction,verbose=True)\n",
    "Aeq_test.equal_odds(prediction,verbose=True)"
   ]
  },
  {
   "cell_type": "markdown",
   "metadata": {},
   "source": [
    "<h3> Updating communication with context engine </h3>"
   ]
  },
  {
   "cell_type": "code",
   "execution_count": 31,
   "metadata": {
    "ExecuteTime": {
     "end_time": "2023-10-15T21:02:23.546980Z",
     "start_time": "2023-10-15T21:02:21.465224Z"
    }
   },
   "outputs": [
    {
     "name": "stdout",
     "output_type": "stream",
     "text": [
      "Aequitas Dataset parameters:\n",
      "{\n",
      "    \"class_attribute\": {\n",
      "        \"name\": \"Employed\",\n",
      "        \"positive_value\": \"True\"\n",
      "    },\n",
      "    \"sensitive_attributes\": [\n",
      "        {\n",
      "            \"name\": \"Gender\"\n",
      "        }\n",
      "    ],\n",
      "    \"Mitigation\": \"True\",\n",
      "    \"Mitigation_technique\": \"massaging\",\n",
      "    \"transform_dictionary\": {\n",
      "        \"Age\": {\n",
      "            \"encode\": \"labeling\"\n",
      "        },\n",
      "        \"Accessibility\": {\n",
      "            \"encode\": \"labeling\"\n",
      "        },\n",
      "        \"EdLevel\": {\n",
      "            \"encode\": \"labeling\"\n",
      "        },\n",
      "        \"Employment\": {\n",
      "            \"encode\": \"labeling\"\n",
      "        },\n",
      "        \"Gender\": {\n",
      "            \"encode\": \"labeling\",\n",
      "            \"labels\": {\n",
      "                \"Female\": 0,\n",
      "                \"NonBinary\": 0,\n",
      "                \"Male\": 1\n",
      "            }\n",
      "        },\n",
      "        \"MentalHealth\": {\n",
      "            \"encode\": \"labeling\"\n",
      "        },\n",
      "        \"MainBranch\": {\n",
      "            \"encode\": \"labeling\"\n",
      "        },\n",
      "        \"YearsCode\": {\n",
      "            \"scaling\": \"standard\"\n",
      "        },\n",
      "        \"YearsCodePro\": {\n",
      "            \"scaling\": \"standard\"\n",
      "        },\n",
      "        \"Country\": {\n",
      "            \"encode\": \"labeling\"\n",
      "        },\n",
      "        \"PreviousSalary\": {\n",
      "            \"scaling\": \"standard\"\n",
      "        },\n",
      "        \"ComputerSkills\": {\n",
      "            \"scaling\": \"standard\"\n",
      "        }\n",
      "    },\n",
      "    \"statistical_parity\": {\n",
      "        \"probabilities\": {\n",
      "            \"false\": {\n",
      "                \"Man\": 0.45637122002085506,\n",
      "                \"Woman\": 0.5554192229038855,\n",
      "                \"NonBinary\": 0.55\n",
      "            },\n",
      "            \"true\": {\n",
      "                \"Man\": 0.5436287799791449,\n",
      "                \"Woman\": 0.44458077709611454,\n",
      "                \"NonBinary\": 0.45\n",
      "            }\n",
      "        },\n",
      "        \"metric\": {\n",
      "            \"Gender\": {\n",
      "                \"false\": {\n",
      "                    \"Man\": {\n",
      "                        \"Man\": 0.0,\n",
      "                        \"Woman\": -0.0990480028830304,\n",
      "                        \"NonBinary\": -0.09362877997914498\n",
      "                    },\n",
      "                    \"Woman\": {\n",
      "                        \"Man\": 0.0990480028830304,\n",
      "                        \"Woman\": 0.0,\n",
      "                        \"NonBinary\": 0.005419222903885412\n",
      "                    },\n",
      "                    \"NonBinary\": {\n",
      "                        \"Man\": 0.09362877997914498,\n",
      "                        \"Woman\": -0.005419222903885412,\n",
      "                        \"NonBinary\": 0.0\n",
      "                    }\n",
      "                },\n",
      "                \"metric\": 0,\n",
      "                \"true\": {\n",
      "                    \"Man\": {\n",
      "                        \"Man\": 0.0,\n",
      "                        \"Woman\": 0.0990480028830304,\n",
      "                        \"NonBinary\": 0.09362877997914493\n",
      "                    },\n",
      "                    \"Woman\": {\n",
      "                        \"Man\": -0.0990480028830304,\n",
      "                        \"Woman\": 0.0,\n",
      "                        \"NonBinary\": -0.005419222903885468\n",
      "                    },\n",
      "                    \"NonBinary\": {\n",
      "                        \"Man\": -0.09362877997914493,\n",
      "                        \"Woman\": 0.005419222903885468,\n",
      "                        \"NonBinary\": 0.0\n",
      "                    }\n",
      "                }\n",
      "            }\n",
      "        }\n",
      "    }\n",
      "}\n"
     ]
    }
   ],
   "source": [
    "Aeq_training_unbiased.display()\n",
    "gw.save_element(Aeq_training_unbiased.parameters, element_key=\"dataset\", version=\"unbiased\")"
   ]
  },
  {
   "cell_type": "code",
   "execution_count": 32,
   "metadata": {
    "ExecuteTime": {
     "end_time": "2023-10-15T21:02:26.961070Z",
     "start_time": "2023-10-15T21:02:24.907602Z"
    }
   },
   "outputs": [],
   "source": [
    "# Aeq_training.display()\n",
    "# gw.save_element(Aeq_training_unbiased.parameters, element_key=\"dataset\", version=\"training\")"
   ]
  },
  {
   "cell_type": "code",
   "execution_count": 33,
   "metadata": {
    "ExecuteTime": {
     "end_time": "2023-10-15T21:02:31.368507Z",
     "start_time": "2023-10-15T21:02:29.313660Z"
    }
   },
   "outputs": [
    {
     "name": "stdout",
     "output_type": "stream",
     "text": [
      "Aequitas Dataset parameters:\n",
      "{\n",
      "    \"class_attribute\": {\n",
      "        \"name\": \"Employed\",\n",
      "        \"positive_value\": \"True\"\n",
      "    },\n",
      "    \"sensitive_attributes\": [\n",
      "        {\n",
      "            \"name\": \"Gender\"\n",
      "        }\n",
      "    ],\n",
      "    \"Mitigation\": \"False\",\n",
      "    \"transform_dictionary\": {\n",
      "        \"Age\": {\n",
      "            \"encode\": \"labeling\"\n",
      "        },\n",
      "        \"Accessibility\": {\n",
      "            \"encode\": \"labeling\"\n",
      "        },\n",
      "        \"EdLevel\": {\n",
      "            \"encode\": \"labeling\"\n",
      "        },\n",
      "        \"Employment\": {\n",
      "            \"encode\": \"labeling\"\n",
      "        },\n",
      "        \"Gender\": {\n",
      "            \"encode\": \"labeling\",\n",
      "            \"labels\": {\n",
      "                \"Female\": 0,\n",
      "                \"NonBinary\": 0,\n",
      "                \"Male\": 1\n",
      "            }\n",
      "        },\n",
      "        \"MentalHealth\": {\n",
      "            \"encode\": \"labeling\"\n",
      "        },\n",
      "        \"MainBranch\": {\n",
      "            \"encode\": \"labeling\"\n",
      "        },\n",
      "        \"YearsCode\": {\n",
      "            \"scaling\": \"standard\"\n",
      "        },\n",
      "        \"YearsCodePro\": {\n",
      "            \"scaling\": \"standard\"\n",
      "        },\n",
      "        \"Country\": {\n",
      "            \"encode\": \"labeling\"\n",
      "        },\n",
      "        \"PreviousSalary\": {\n",
      "            \"scaling\": \"standard\"\n",
      "        },\n",
      "        \"ComputerSkills\": {\n",
      "            \"scaling\": \"standard\"\n",
      "        }\n",
      "    },\n",
      "    \"equal_opportunity\": {\n",
      "        \"probabilities\": {\n",
      "            \"Man\": {\n",
      "                \"TP\": 8342,\n",
      "                \"TN\": 6852,\n",
      "                \"FP\": 2593,\n",
      "                \"FN\": 2725,\n",
      "                \"TPR\": 0.7537724767326285,\n",
      "                \"TNR\": 0.7254632080465855,\n",
      "                \"FPR\": 0.2745367919534145,\n",
      "                \"FNR\": 0.24622752326737146,\n",
      "                \"FDR\": 0.23712848651120255,\n",
      "                \"FOR\": 0.2845358671817897,\n",
      "                \"PPV\": 0.7628715134887974,\n",
      "                \"NPV\": 0.7154641328182103,\n",
      "                \"RPP\": 0.5331025741029641,\n",
      "                \"RNP\": 0.46689742589703587,\n",
      "                \"ACC\": 0.7407371294851794\n",
      "            },\n",
      "            \"NonBinary\": {\n",
      "                \"TP\": 173,\n",
      "                \"TN\": 146,\n",
      "                \"FP\": 55,\n",
      "                \"FN\": 55,\n",
      "                \"TPR\": 0.7587719298245614,\n",
      "                \"TNR\": 0.7263681592039801,\n",
      "                \"FPR\": 0.2736318407960199,\n",
      "                \"FNR\": 0.2412280701754386,\n",
      "                \"FDR\": 0.2412280701754386,\n",
      "                \"FOR\": 0.2736318407960199,\n",
      "                \"PPV\": 0.7587719298245614,\n",
      "                \"NPV\": 0.7263681592039801,\n",
      "                \"RPP\": 0.5314685314685315,\n",
      "                \"RNP\": 0.46853146853146854,\n",
      "                \"ACC\": 0.7435897435897436\n",
      "            },\n",
      "            \"Woman\": {\n",
      "                \"TP\": 342,\n",
      "                \"TN\": 435,\n",
      "                \"FP\": 136,\n",
      "                \"FN\": 147,\n",
      "                \"TPR\": 0.6993865030674846,\n",
      "                \"TNR\": 0.7618213660245184,\n",
      "                \"FPR\": 0.2381786339754816,\n",
      "                \"FNR\": 0.3006134969325153,\n",
      "                \"FDR\": 0.28451882845188287,\n",
      "                \"FOR\": 0.25257731958762886,\n",
      "                \"PPV\": 0.7154811715481172,\n",
      "                \"NPV\": 0.7474226804123711,\n",
      "                \"RPP\": 0.4509433962264151,\n",
      "                \"RNP\": 0.5490566037735849,\n",
      "                \"ACC\": 0.7330188679245283\n",
      "            }\n",
      "        },\n",
      "        \"metric\": {\n",
      "            \"Gender\": {\n",
      "                \"analysis\": {\n",
      "                    \"Woman\": {\n",
      "                        \"Man\": -0.05438597366514386,\n",
      "                        \"NonBinary\": -0.05938542675707681,\n",
      "                        \"Woman\": 0.0\n",
      "                    }\n",
      "                },\n",
      "                \"metric\": 0\n",
      "            }\n",
      "        }\n",
      "    },\n",
      "    \"equal_odds\": {\n",
      "        \"confusion_metrics\": {\n",
      "            \"Man\": {\n",
      "                \"TP\": 8342,\n",
      "                \"TN\": 6852,\n",
      "                \"FP\": 2593,\n",
      "                \"FN\": 2725,\n",
      "                \"TPR\": 0.7537724767326285,\n",
      "                \"TNR\": 0.7254632080465855,\n",
      "                \"FPR\": 0.2745367919534145,\n",
      "                \"FNR\": 0.24622752326737146,\n",
      "                \"FDR\": 0.23712848651120255,\n",
      "                \"FOR\": 0.2845358671817897,\n",
      "                \"PPV\": 0.7628715134887974,\n",
      "                \"NPV\": 0.7154641328182103,\n",
      "                \"RPP\": 0.5331025741029641,\n",
      "                \"RNP\": 0.46689742589703587,\n",
      "                \"ACC\": 0.7407371294851794\n",
      "            },\n",
      "            \"NonBinary\": {\n",
      "                \"TP\": 173,\n",
      "                \"TN\": 146,\n",
      "                \"FP\": 55,\n",
      "                \"FN\": 55,\n",
      "                \"TPR\": 0.7587719298245614,\n",
      "                \"TNR\": 0.7263681592039801,\n",
      "                \"FPR\": 0.2736318407960199,\n",
      "                \"FNR\": 0.2412280701754386,\n",
      "                \"FDR\": 0.2412280701754386,\n",
      "                \"FOR\": 0.2736318407960199,\n",
      "                \"PPV\": 0.7587719298245614,\n",
      "                \"NPV\": 0.7263681592039801,\n",
      "                \"RPP\": 0.5314685314685315,\n",
      "                \"RNP\": 0.46853146853146854,\n",
      "                \"ACC\": 0.7435897435897436\n",
      "            },\n",
      "            \"Woman\": {\n",
      "                \"TP\": 342,\n",
      "                \"TN\": 435,\n",
      "                \"FP\": 136,\n",
      "                \"FN\": 147,\n",
      "                \"TPR\": 0.6993865030674846,\n",
      "                \"TNR\": 0.7618213660245184,\n",
      "                \"FPR\": 0.2381786339754816,\n",
      "                \"FNR\": 0.3006134969325153,\n",
      "                \"FDR\": 0.28451882845188287,\n",
      "                \"FOR\": 0.25257731958762886,\n",
      "                \"PPV\": 0.7154811715481172,\n",
      "                \"NPV\": 0.7474226804123711,\n",
      "                \"RPP\": 0.4509433962264151,\n",
      "                \"RNP\": 0.5490566037735849,\n",
      "                \"ACC\": 0.7330188679245283\n",
      "            }\n",
      "        },\n",
      "        \"metric\": {\n",
      "            \"Gender\": {\n",
      "                \"analysis\": {\n",
      "                    \"Woman\": {\n",
      "                        \"Man\": -0.009013907843605451,\n",
      "                        \"NonBinary\": -0.011966109968269245,\n",
      "                        \"Woman\": 0.0\n",
      "                    }\n",
      "                },\n",
      "                \"metric\": 0\n",
      "            }\n",
      "        }\n",
      "    }\n",
      "}\n"
     ]
    }
   ],
   "source": [
    "Aeq_test.display()\n",
    "gw.save_element(Aeq_training_unbiased.parameters, element_key=\"dataset\", version=\"test\")"
   ]
  },
  {
   "cell_type": "code",
   "execution_count": null,
   "metadata": {},
   "outputs": [],
   "source": []
  }
 ],
 "metadata": {
  "kernelspec": {
   "display_name": "Python 3.11.5 ('aequitas')",
   "language": "python",
   "name": "python3"
  },
  "language_info": {
   "codemirror_mode": {
    "name": "ipython",
    "version": 3
   },
   "file_extension": ".py",
   "mimetype": "text/x-python",
   "name": "python",
   "nbconvert_exporter": "python",
   "pygments_lexer": "ipython3",
   "version": "3.11.4"
  },
  "orig_nbformat": 4,
  "vscode": {
   "interpreter": {
    "hash": "aafc4311810ab362ec8b20f1ad7cefee81be5411161712b32fbd26f1f27127c5"
   }
  }
 },
 "nbformat": 4,
 "nbformat_minor": 2
}
