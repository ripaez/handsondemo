{
 "cells": [
  {
   "cell_type": "code",
   "execution_count": 1,
   "metadata": {},
   "outputs": [],
   "source": [
    "import sys\n",
    "sys.path.append(\"../\")"
   ]
  },
  {
   "cell_type": "code",
   "execution_count": 2,
   "metadata": {},
   "outputs": [],
   "source": [
    "import numpy as np\n",
    "import pandas as pd\n",
    "import aequitas.tools.data_manip as dm\n",
    "import aequitas.detection.descriptive_stats as dstats\n",
    "import aequitas.detection.metrics as metrics\n",
    "pd.set_option('display.width', 500)"
   ]
  },
  {
   "cell_type": "code",
   "execution_count": 3,
   "metadata": {},
   "outputs": [],
   "source": [
    "#Import dataset\n",
    "dataset_name=\"Census_Income_Dataset.csv\"\n",
    "dataset_directory=\"../datasets/\"+dataset_name\n",
    "dataset = pd.read_csv(dataset_directory)"
   ]
  },
  {
   "cell_type": "code",
   "execution_count": 4,
   "metadata": {},
   "outputs": [],
   "source": [
    "# Dataset Pre-Processing\n",
    "\n",
    "# remove fnlwgt column (per instructions)\n",
    "dataset = dataset.drop('fnlwgt', axis=1)\n",
    "\n",
    "# remove education column since there is an educution_num\n",
    "dataset = dataset.drop('education', axis=1)\n",
    "\n",
    "# impute the missing values\n",
    "num_data = dataset.shape[0]\n",
    "col_names = dataset.columns\n",
    "for c in col_names:\n",
    "\tdataset[c] = dataset[c].replace(\"?\", np.NaN)\n",
    "dataset = dataset.apply(lambda x:x.fillna(x.value_counts().index[0]))"
   ]
  },
  {
   "cell_type": "code",
   "execution_count": 5,
   "metadata": {},
   "outputs": [
    {
     "name": "stdout",
     "output_type": "stream",
     "text": [
      "Dataset:\n",
      "        Column Name Data Type Column Type (suggestion)  Number_Values                                             Values\n",
      "0               age     int64               Continuous             74                                                  -\n",
      "1         workclass      text      Categorical/Ordinal              8  [Private, Local-gov, Self-emp-not-inc, Federal...\n",
      "2   educational-num     int64      Categorical/Ordinal             16  [7, 9, 12, 10, 6, 15, 4, 13, 14, 16, 3, 11, 5,...\n",
      "3    marital-status      text      Categorical/Ordinal              7  [Never-married, Married-civ-spouse, Widowed, D...\n",
      "4        occupation      text      Categorical/Ordinal             14  [Machine-op-inspct, Farming-fishing, Protectiv...\n",
      "5      relationship      text      Categorical/Ordinal              6  [Own-child, Husband, Not-in-family, Unmarried,...\n",
      "6              race      text      Categorical/Ordinal              5  [Black, White, Asian-Pac-Islander, Other, Amer...\n",
      "7            gender      text                   Binary              2                                     [Male, Female]\n",
      "8      capital-gain     int64               Continuous            123                                                  -\n",
      "9      capital-loss     int64               Continuous             99                                                  -\n",
      "10   hours-per-week     int64               Continuous             96                                                  -\n",
      "11   native-country      text      Categorical/Ordinal             41  [United-States, Peru, Guatemala, Mexico, Domin...\n",
      "12           income      text                   Binary              2                                      [<=50K, >50K]\n"
     ]
    }
   ],
   "source": [
    "# display dataset structure\n",
    "dataset_struct=dstats.analyse_dataset(dataset,verbose=True)"
   ]
  },
  {
   "cell_type": "code",
   "execution_count": 6,
   "metadata": {},
   "outputs": [
    {
     "name": "stdout",
     "output_type": "stream",
     "text": [
      "Proportions: (income)\n",
      "              0\n",
      "<=50K  0.760718\n",
      ">50K   0.239282\n",
      "\n"
     ]
    }
   ],
   "source": [
    "# Display dataset proportions for class outcome\n",
    "pr1=dstats.proportions(dataset,'income',verbose=True)"
   ]
  },
  {
   "cell_type": "code",
   "execution_count": 7,
   "metadata": {},
   "outputs": [
    {
     "name": "stdout",
     "output_type": "stream",
     "text": [
      "Proportions: (gender)\n",
      "               0\n",
      "Male    0.668482\n",
      "Female  0.331518\n",
      "\n",
      "Proportions: (race)\n",
      "                           0\n",
      "White               0.855043\n",
      "Black               0.095922\n",
      "Asian-Pac-Islander  0.031100\n",
      "Amer-Indian-Eskimo  0.009623\n",
      "Other               0.008313\n",
      "\n"
     ]
    }
   ],
   "source": [
    "# Display dataset proportions for some interesting features \n",
    "pr2=dstats.proportions(dataset,'gender',verbose=True)\n",
    "pr3=dstats.proportions(dataset,'race',verbose=True)"
   ]
  },
  {
   "cell_type": "code",
   "execution_count": 8,
   "metadata": {},
   "outputs": [
    {
     "name": "stdout",
     "output_type": "stream",
     "text": [
      "Outcome distribution by group:\n",
      "           <=50K      >50K\n",
      "Female  0.890749  0.109251\n",
      "Male    0.696233  0.303767\n",
      "\n",
      "Outcome distribution by group:\n",
      "                       <=50K      >50K\n",
      "Amer-Indian-Eskimo  0.882979  0.117021\n",
      "Asian-Pac-Islander  0.730744  0.269256\n",
      "Black               0.879189  0.120811\n",
      "Other               0.876847  0.123153\n",
      "White               0.746013  0.253987\n",
      "\n"
     ]
    }
   ],
   "source": [
    "# compute outcome distribution of gender and race\n",
    "outdist1=dstats.outcome_distribution_by_group(dataset, 'income', 'gender',verbose=True)\n",
    "\n",
    "# compute outcome distribution of race and race\n",
    "outdist1=dstats.outcome_distribution_by_group(dataset, 'income', 'race',verbose=True)"
   ]
  },
  {
   "cell_type": "code",
   "execution_count": 9,
   "metadata": {},
   "outputs": [
    {
     "name": "stdout",
     "output_type": "stream",
     "text": [
      "Unique values:  ['Minority' 'White']\n"
     ]
    }
   ],
   "source": [
    "# Regroup race feature to White and Minorities\n",
    "groups = [['White'], ['Black','Asian-Pac-Islander','Other','Amer-Indian-Eskimo']]\n",
    "labels=['White','Minority']\n",
    "dataset[\"race\"]=dm.merge_values(dataset[\"race\"],groups,labels)\n",
    "print(\"Unique values: \",dataset[\"race\"].unique())"
   ]
  },
  {
   "cell_type": "code",
   "execution_count": 10,
   "metadata": {},
   "outputs": [
    {
     "name": "stdout",
     "output_type": "stream",
     "text": [
      "\n",
      "Association between gender and race.\n",
      "Contingency Table:\n",
      "race    Minority  White\n",
      "gender                 \n",
      "Female      3165  13027\n",
      "Male        3915  28735\n",
      "\n",
      "Chi-squared statistic: 497.9678182429906\n",
      "Cramer's V: 0.10087228311688282\n",
      "Degrees of Freedom: 1\n",
      "p-value: 2.6310785315092373e-110\n",
      "There is a statistically significant association between gender and race.\n",
      "\n",
      "Association between gender and income.\n",
      "Contingency Table:\n",
      "income  <=50K  >50K\n",
      "gender             \n",
      "Female  14423  1769\n",
      "Male    22732  9918\n",
      "\n",
      "Chi-squared statistic: 2248.847679013691\n",
      "Cramer's V: 0.21453154666546925\n",
      "Degrees of Freedom: 1\n",
      "p-value: 0.0\n",
      "There is a statistically significant association between gender and income.\n",
      "\n",
      "Association between race and income.\n",
      "Contingency Table:\n",
      "income    <=50K   >50K\n",
      "race                  \n",
      "Minority   6000   1080\n",
      "White     31155  10607\n",
      "\n",
      "Chi-squared statistic: 341.69392421526\n",
      "Cramer's V: 0.08351988884542906\n",
      "Degrees of Freedom: 1\n",
      "p-value: 2.7287685643121156e-76\n",
      "There is a statistically significant association between race and income.\n"
     ]
    }
   ],
   "source": [
    "# compute the assosiation between features | chi^2 test and Cramer's V test\n",
    "rel=dstats.contingency(dataset, 'income', ['gender','race'],verbose=True)"
   ]
  },
  {
   "cell_type": "code",
   "execution_count": 11,
   "metadata": {},
   "outputs": [
    {
     "name": "stdout",
     "output_type": "stream",
     "text": [
      "Mutual Information between gender and race: 0.004913186885676296\n",
      "Mutual Information between gender and income: 0.02543127128464205\n",
      "Mutual Information between race and income: 0.003810673439274867\n"
     ]
    }
   ],
   "source": [
    "# Compute the mutual information between features\n",
    "mut=dstats.mutual_information(dataset, 'income', ['gender','race'],verbose=True)"
   ]
  },
  {
   "cell_type": "code",
   "execution_count": 12,
   "metadata": {},
   "outputs": [
    {
     "name": "stdout",
     "output_type": "stream",
     "text": [
      "Probabilities:\n",
      "           Male    Female\n",
      "<=50K  0.696233  0.890749\n",
      ">50K   0.303767  0.109251\n",
      "\n",
      "Probabilities:\n",
      "       Minority     White\n",
      "<=50K  0.847458  0.746013\n",
      ">50K   0.152542  0.253987\n",
      "\n"
     ]
    }
   ],
   "source": [
    "# compute outcome probabilities of gender and race\n",
    "prob_gender=metrics.stats(dataset,'income','gender',verbose=True)\n",
    "prob_gender=metrics.stats(dataset,'income','race',verbose=True)"
   ]
  },
  {
   "cell_type": "code",
   "execution_count": 13,
   "metadata": {},
   "outputs": [
    {
     "name": "stdout",
     "output_type": "stream",
     "text": [
      "Statistical/Demographic Parity:\n",
      "Outcome:  >50K\n",
      "      Male    Female\n",
      "Male   0.0  0.194516\n",
      "\n",
      "\n",
      "Statistical/Demographic Parity:\n",
      "Outcome:  >50K\n",
      "       Minority  White\n",
      "White  0.101445    0.0\n",
      "\n",
      "\n"
     ]
    }
   ],
   "source": [
    "# compute statistical parity for gender and race\n",
    "positive_outcome='>50K'\n",
    "priviledged_gender='Male'\n",
    "priviledged_race='White'\n",
    "sp_gender=metrics.statistical_parity(dataset,'income','gender',positive_outcome=positive_outcome,privileged_group=priviledged_gender,verbose=True)\n",
    "sp_race=metrics.statistical_parity(dataset,'income','race',positive_outcome=positive_outcome,privileged_group=priviledged_race,verbose=True)"
   ]
  },
  {
   "cell_type": "code",
   "execution_count": 14,
   "metadata": {},
   "outputs": [
    {
     "name": "stdout",
     "output_type": "stream",
     "text": [
      "Disparate Impact:\n",
      "Outcome:  >50K\n",
      "      Male    Female\n",
      "Male   1.0  0.359655\n",
      "\n",
      "\n",
      "Disparate Impact:\n",
      "Outcome:  >50K\n",
      "       Minority  White\n",
      "White  0.600592    1.0\n",
      "\n",
      "\n"
     ]
    }
   ],
   "source": [
    "# compute disparate impact for gender and race\n",
    "positive_outcome='>50K'\n",
    "priviledged_gender='Male'\n",
    "priviledged_race='White'\n",
    "sp_gender=metrics.disparate_impact(dataset,'income','gender',positive_outcome=positive_outcome,privileged_group=priviledged_gender,verbose=True)\n",
    "sp_race=metrics.disparate_impact(dataset,'income','race',positive_outcome=positive_outcome,privileged_group=priviledged_race,verbose=True)"
   ]
  }
 ],
 "metadata": {
  "kernelspec": {
   "display_name": "Python 3.11.5 ('aequitas')",
   "language": "python",
   "name": "python3"
  },
  "language_info": {
   "codemirror_mode": {
    "name": "ipython",
    "version": 3
   },
   "file_extension": ".py",
   "mimetype": "text/x-python",
   "name": "python",
   "nbconvert_exporter": "python",
   "pygments_lexer": "ipython3",
   "version": "3.11.5"
  },
  "orig_nbformat": 4,
  "vscode": {
   "interpreter": {
    "hash": "aafc4311810ab362ec8b20f1ad7cefee81be5411161712b32fbd26f1f27127c5"
   }
  }
 },
 "nbformat": 4,
 "nbformat_minor": 2
}
