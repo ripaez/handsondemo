{
 "cells": [
  {
   "cell_type": "markdown",
   "metadata": {
    "collapsed": false
   },
   "source": [
    "# Integration demo\n",
    "\n",
    "This file demonstrates interconnection between the functionality of the aequitas-lib and the context-service.\n",
    "The context-service is the connection point between the different tools of the AEQUITAS project holding information about\n",
    "current projects and their elements.\n",
    "\n",
    "This interconnection is handled by the aequitas.gateway.\n",
    "In order to test this interconnection, a context-service needs to be present and running.\n",
    "Since the context service is not part of the D3.1/D4.1 demonstrator (but will be part of D3.2/D4.2),\n",
    "a mockup context service placeholder is provided in:\n",
    "https://github.com/aequitas-aod/prototype-api\n",
    "\n",
    "### Usage:\n",
    "* clone git repo\n",
    "* (create venv)\n",
    "* pip install -r requirements\n",
    "* python aeq-api/server.py\n",
    "\n",
    "This will start a context-service mockup on http://localhost:6060\n",
    "\n",
    "### Running the examples without the context-service\n",
    "\n",
    "The gateway also provides a file-system mode by passing filesystem=True to the gateway.\n",
    "This will persist element data to a filesystem structure and json-files instead of using the context service.\n",
    "\n"
   ]
  },
  {
   "cell_type": "code",
   "execution_count": 2,
   "metadata": {
    "collapsed": false
   },
   "outputs": [],
   "source": [
    "import sys\n",
    "sys.path.append(\"../\")"
   ]
  },
  {
   "cell_type": "code",
   "execution_count": 3,
   "metadata": {
    "collapsed": false
   },
   "outputs": [],
   "source": [
    "import numpy as np\n",
    "import pandas as pd\n",
    "pd.set_option('display.width', 500)\n",
    "from aequitas.engine import Aequitas, NpEncoder\n",
    "import aequitas.tools.data_manip as dm\n",
    "import aequitas.tools as tools"
   ]
  },
  {
   "cell_type": "code",
   "execution_count": 4,
   "metadata": {
    "collapsed": false
   },
   "outputs": [],
   "source": [
    "from aequitas.gateway import Gateway"
   ]
  },
  {
   "cell_type": "code",
   "execution_count": 5,
   "metadata": {
    "ExecuteTime": {
     "end_time": "2023-10-15T20:22:55.466902Z",
     "start_time": "2023-10-15T20:22:55.360907Z"
    }
   },
   "outputs": [],
   "source": [
    "#Import dataset\n",
    "dataset_name=\"Census_Income_Dataset.csv\"\n",
    "dataset_directory=\"../datasets/\"+dataset_name\n",
    "dataset = pd.read_csv(dataset_directory)"
   ]
  },
  {
   "cell_type": "code",
   "execution_count": 6,
   "metadata": {
    "ExecuteTime": {
     "end_time": "2023-10-15T20:23:03.132898Z",
     "start_time": "2023-10-15T20:23:03.022402Z"
    }
   },
   "outputs": [],
   "source": [
    "# Dataset Pre-Processing\n",
    "\n",
    "# remove fnlwgt column (per instructions)\n",
    "dataset = dataset.drop('fnlwgt', axis=1)\n",
    "\n",
    "# remove education column since there is an educution_num\n",
    "dataset = dataset.drop('education', axis=1)\n",
    "\n",
    "# impute the missing values\n",
    "num_data = dataset.shape[0]\n",
    "col_names = dataset.columns\n",
    "for c in col_names:\n",
    "\tdataset[c] = dataset[c].replace(\"?\", np.NaN)\n",
    "dataset = dataset.apply(lambda x:x.fillna(x.value_counts().index[0]))"
   ]
  },
  {
   "cell_type": "code",
   "execution_count": 7,
   "metadata": {
    "ExecuteTime": {
     "end_time": "2023-10-15T20:23:06.656191Z",
     "start_time": "2023-10-15T20:23:06.625692Z"
    }
   },
   "outputs": [
    {
     "name": "stdout",
     "output_type": "stream",
     "text": [
      "Unique values:  ['Minority' 'White']\n"
     ]
    }
   ],
   "source": [
    "# Regroup race feature to White and Minorities\n",
    "groups = [['White'], ['Black','Asian-Pac-Islander','Other','Amer-Indian-Eskimo']]\n",
    "labels=['White','Minority']\n",
    "dataset[\"race\"]=dm.merge_values(dataset[\"race\"],groups,labels)\n",
    "print(\"Unique values: \",dataset[\"race\"].unique())"
   ]
  },
  {
   "cell_type": "code",
   "execution_count": 8,
   "metadata": {
    "ExecuteTime": {
     "end_time": "2023-10-15T20:23:11.225443Z",
     "start_time": "2023-10-15T20:23:11.143450Z"
    }
   },
   "outputs": [
    {
     "name": "stdout",
     "output_type": "stream",
     "text": [
      "Dataset:\n",
      "        Column Name Data Type Column Type (suggestion)  Number_Values                                             Values\n",
      "0               age     int64               Continuous             74                                                  -\n",
      "1         workclass      text      Categorical/Ordinal              8  [Private, Local-gov, Self-emp-not-inc, Federal...\n",
      "2   educational-num     int64      Categorical/Ordinal             16  [7, 9, 12, 10, 6, 15, 4, 13, 14, 16, 3, 11, 5,...\n",
      "3    marital-status      text      Categorical/Ordinal              7  [Never-married, Married-civ-spouse, Widowed, D...\n",
      "4        occupation      text      Categorical/Ordinal             14  [Machine-op-inspct, Farming-fishing, Protectiv...\n",
      "5      relationship      text      Categorical/Ordinal              6  [Own-child, Husband, Not-in-family, Unmarried,...\n",
      "6              race      text                   Binary              2                                  [Minority, White]\n",
      "7            gender      text                   Binary              2                                     [Male, Female]\n",
      "8      capital-gain     int64               Continuous            123                                                  -\n",
      "9      capital-loss     int64               Continuous             99                                                  -\n",
      "10   hours-per-week     int64               Continuous             96                                                  -\n",
      "11   native-country      text      Categorical/Ordinal             41  [United-States, Peru, Guatemala, Mexico, Domin...\n",
      "12           income      text                   Binary              2                                      [<=50K, >50K]\n"
     ]
    }
   ],
   "source": [
    "# We are going to demonstrate a few examples of parameter files for an Aequitas Object\n",
    "\n",
    "# Empty parameters file (Example 1)\n",
    "parameters={\n",
    "}\n",
    "Aeq_dataset=Aequitas(dataset,parameters)\n",
    "Aeq_dataset.structure(verbose=True)"
   ]
  },
  {
   "cell_type": "code",
   "execution_count": 9,
   "metadata": {
    "ExecuteTime": {
     "end_time": "2023-10-15T20:23:12.648974Z",
     "start_time": "2023-10-15T20:23:12.624375Z"
    }
   },
   "outputs": [
    {
     "name": "stdout",
     "output_type": "stream",
     "text": [
      "Proportions: (income)\n",
      "              0\n",
      "<=50K  0.760718\n",
      ">50K   0.239282\n",
      "\n"
     ]
    }
   ],
   "source": [
    "#Basic parameters file (Example 2)\n",
    "parameters={\n",
    "    \"class_attribute\":{\n",
    "        \"name\": 'income',\n",
    "    },\n",
    "}\n",
    "Aeq_dataset=Aequitas(dataset,parameters)\n",
    "Aeq_dataset.descriptive_stats(verbose=True)"
   ]
  },
  {
   "cell_type": "code",
   "execution_count": 10,
   "metadata": {
    "ExecuteTime": {
     "end_time": "2023-10-15T20:23:13.900939Z",
     "start_time": "2023-10-15T20:23:13.535939Z"
    }
   },
   "outputs": [
    {
     "name": "stdout",
     "output_type": "stream",
     "text": [
      "Proportions: (income)\n",
      "              0\n",
      "<=50K  0.760718\n",
      ">50K   0.239282\n",
      "\n",
      "Proportions: (gender)\n",
      "               0\n",
      "Male    0.668482\n",
      "Female  0.331518\n",
      "\n",
      "Proportions: (race)\n",
      "                 0\n",
      "White     0.855043\n",
      "Minority  0.144957\n",
      "\n",
      "Outcome distribution by group:\n",
      "           <=50K      >50K\n",
      "Female  0.890749  0.109251\n",
      "Male    0.696233  0.303767\n",
      "\n",
      "Outcome distribution by group:\n",
      "             <=50K      >50K\n",
      "Minority  0.847458  0.152542\n",
      "White     0.746013  0.253987\n",
      "\n",
      "\n",
      "Association between gender and race.\n",
      "Contingency Table:\n",
      "race    Minority  White\n",
      "gender                 \n",
      "Female      3165  13027\n",
      "Male        3915  28735\n",
      "\n",
      "Chi-squared statistic: 497.9678182429906\n",
      "Cramer's V: 0.10087228311688282\n",
      "Degrees of Freedom: 1\n",
      "p-value: 2.6310785315092373e-110\n",
      "There is a statistically significant association between gender and race.\n",
      "\n",
      "Association between gender and income.\n",
      "Contingency Table:\n",
      "income  <=50K  >50K\n",
      "gender             \n",
      "Female  14423  1769\n",
      "Male    22732  9918\n",
      "\n",
      "Chi-squared statistic: 2248.847679013691\n",
      "Cramer's V: 0.21453154666546925\n",
      "Degrees of Freedom: 1\n",
      "p-value: 0.0\n",
      "There is a statistically significant association between gender and income.\n",
      "\n",
      "Association between race and income.\n",
      "Contingency Table:\n",
      "income    <=50K   >50K\n",
      "race                  \n",
      "Minority   6000   1080\n",
      "White     31155  10607\n",
      "\n",
      "Chi-squared statistic: 341.69392421526\n",
      "Cramer's V: 0.08351988884542906\n",
      "Degrees of Freedom: 1\n",
      "p-value: 2.7287685643121156e-76\n",
      "There is a statistically significant association between race and income.\n",
      "Mutual Information between gender and race: 0.004913186885676296\n",
      "Mutual Information between gender and income: 0.02543127128464205\n",
      "Mutual Information between race and income: 0.003810673439274867\n"
     ]
    }
   ],
   "source": [
    "# A parameters file without any expectations of privileged groups  (Example 3)\n",
    "parameters={\n",
    "    \"class_attribute\":{\n",
    "        \"name\": 'income',\n",
    "        \"positive_value\":'>50K'\n",
    "    },\n",
    "    \"sensitive_attributes\":\n",
    "    [\n",
    "        {\n",
    "            \"name\": 'gender',\n",
    "        },\n",
    "        {\n",
    "            \"name\": 'race',\n",
    "        }\n",
    "    ]\n",
    "}\n",
    "Aeq_dataset=Aequitas(dataset,parameters)\n",
    "Aeq_dataset.descriptive_stats(verbose=True)"
   ]
  },
  {
   "cell_type": "code",
   "execution_count": 11,
   "metadata": {
    "ExecuteTime": {
     "end_time": "2023-10-15T20:55:26.051283Z",
     "start_time": "2023-10-15T20:55:23.956287Z"
    },
    "collapsed": false
   },
   "outputs": [],
   "source": [
    "#### Mattias Addition\n",
    "gw = Gateway('demonstrator', host='http://localhost:6060/')\n",
    "fs_only = False\n",
    "\n",
    "gw.save_element(Aeq_dataset.parameters, element_key=\"dataset\", filesystem=fs_only)"
   ]
  },
  {
   "cell_type": "code",
   "execution_count": 12,
   "metadata": {
    "ExecuteTime": {
     "end_time": "2023-10-15T20:23:20.576782Z",
     "start_time": "2023-10-15T20:23:20.556945Z"
    }
   },
   "outputs": [],
   "source": [
    "# Lets go forward with a more detailed fairness analysis\n",
    "\n",
    "#Lets split the dataset into training and test samples\n",
    "training_sample,test_sample = dm.split_dataset(dataset,ratio=0.3, random_state=123)"
   ]
  },
  {
   "cell_type": "code",
   "execution_count": 13,
   "metadata": {
    "ExecuteTime": {
     "end_time": "2023-10-15T20:23:22.120735Z",
     "start_time": "2023-10-15T20:23:22.102236Z"
    }
   },
   "outputs": [],
   "source": [
    "# Define a parameters file with privileged groups\n",
    "parameters={\n",
    "    \"class_attribute\":{\n",
    "        \"name\": 'income',\n",
    "        \"positive_value\":'>50K'\n",
    "    },\n",
    "    \"sensitive_attributes\":\n",
    "    [\n",
    "        {\n",
    "            \"name\": 'gender',\n",
    "            \"privileged_group\":'Male'\n",
    "        },\n",
    "    ]\n",
    "}\n",
    "# Define two Aequitas Objects\n",
    "Aeq_training=Aequitas(training_sample,parameters)\n",
    "Aeq_test=Aequitas(test_sample,parameters)"
   ]
  },
  {
   "cell_type": "code",
   "execution_count": 14,
   "metadata": {
    "ExecuteTime": {
     "end_time": "2023-10-15T20:23:23.618618Z",
     "start_time": "2023-10-15T20:23:23.356622Z"
    }
   },
   "outputs": [
    {
     "name": "stdout",
     "output_type": "stream",
     "text": [
      "Probabilities:\n",
      "          Male    Female\n",
      ">50K  0.303156  0.106205\n",
      "\n",
      "Statistical/Demographic Parity:\n",
      "Outcome:  >50K\n",
      "      Male    Female\n",
      "Male   0.0  0.196951\n",
      "\n",
      "\n",
      "Probabilities:\n",
      "          Male    Female\n",
      ">50K  0.303156  0.106205\n",
      "\n",
      "Disparate Impact:\n",
      "Outcome:  >50K\n",
      "      Male   Female\n",
      "Male   1.0  0.35033\n",
      "\n",
      "\n"
     ]
    }
   ],
   "source": [
    "# Get data on Aeq_training object\n",
    "Aeq_training.structure()\n",
    "Aeq_training.descriptive_stats()\n",
    "\n",
    "# you can use the folowing techniques without defining privileged groups. in that case the results will be displayed\n",
    "# as if all values could be privileged.\n",
    "Aeq_training.statistical_parity(verbose=True)\n",
    "Aeq_training.disparate_impact(verbose=True)"
   ]
  },
  {
   "cell_type": "code",
   "execution_count": 15,
   "metadata": {
    "ExecuteTime": {
     "end_time": "2023-10-15T20:23:26.159796Z",
     "start_time": "2023-10-15T20:23:26.137242Z"
    }
   },
   "outputs": [],
   "source": [
    "# Define appropriate transformations for dataset\n",
    "transform_dictionary = {\n",
    "    \"income\": {\n",
    "        \"encode\": \"labeling\",\n",
    "        \"labels\": {\n",
    "            \"<=50K\": 0,\n",
    "            \">50K\": 1, \n",
    "        }\n",
    "    },\n",
    "    \"gender\": {\n",
    "        \"encode\": \"labeling\",\n",
    "        \"labels\": {\n",
    "            \"Female\": 0,\n",
    "            \"Male\": 1, \n",
    "        }\n",
    "    },\n",
    "    \"race\": {\n",
    "        \"encode\": \"labeling\",\n",
    "        \"labels\": {\n",
    "            \"Minority\": 0,\n",
    "            \"White\": 1, \n",
    "        } \n",
    "    },\n",
    "    \"workclass\": {\n",
    "        \"encode\": \"labeling\",\n",
    "        \"scaling\": \"min-max\"\n",
    "    },\n",
    "    \"marital-status\": {\n",
    "        \"encode\": \"labeling\",\n",
    "        \"scaling\": \"min-max\"\n",
    "    },\n",
    "    \"occupation\": {\n",
    "        \"encode\": \"labeling\", \n",
    "        \"scaling\": \"min-max\"\n",
    "    },\n",
    "    \"relationship\": {\n",
    "        \"encode\": \"labeling\", \n",
    "        \"scaling\": \"min-max\"\n",
    "    },\n",
    "    \"native-country\": {\n",
    "        \"encode\": \"labeling\", \n",
    "        \"scaling\": \"min-max\"\n",
    "    },\n",
    "    \"age\":{\n",
    "        \"scaling\": \"standard\"\n",
    "    },\n",
    "    \"educational-num\":{\n",
    "        \"scaling\": \"min-max\"\n",
    "    },\n",
    "    \"capital-gain\":{\n",
    "        \"scaling\": \"standard\"\n",
    "    },\n",
    "    \"capital-loss\":{\n",
    "        \"scaling\": \"standard\"\n",
    "    },\n",
    "    \"hours-per-week\":{\n",
    "        \"scaling\": \"standard\"\n",
    "    }\n",
    "}\n",
    "\n",
    "# add transform instructions for techniques\n",
    "Aeq_training.transform_instructions(transform_dictionary)\n",
    "Aeq_test.transform_instructions(transform_dictionary)"
   ]
  },
  {
   "cell_type": "code",
   "execution_count": 16,
   "metadata": {
    "ExecuteTime": {
     "end_time": "2023-10-15T20:23:28.660081Z",
     "start_time": "2023-10-15T20:23:27.562393Z"
    }
   },
   "outputs": [
    {
     "name": "stdout",
     "output_type": "stream",
     "text": [
      "Probabilities:\n",
      "          Male    Female\n",
      ">50K  0.237753  0.237881\n",
      "\n",
      "Statistical/Demographic Parity:\n",
      "Outcome:  >50K\n",
      "      Male    Female\n",
      "Male   0.0 -0.000128\n",
      "\n",
      "\n"
     ]
    }
   ],
   "source": [
    "\n",
    "# mitigate bias on data (massaging) / you can use also uniform_sampling or preferential_sampling\n",
    "Aeq_training_unbiased=Aeq_training.mitigation(method='massaging', sensitive_attribute='gender')\n",
    "\n",
    "# check statistical parity on new unbiased object\n",
    "Aeq_training_unbiased.statistical_parity(verbose=True)"
   ]
  },
  {
   "cell_type": "code",
   "execution_count": 17,
   "metadata": {
    "ExecuteTime": {
     "end_time": "2023-10-15T20:23:29.820777Z",
     "start_time": "2023-10-15T20:23:29.586779Z"
    }
   },
   "outputs": [
    {
     "name": "stdout",
     "output_type": "stream",
     "text": [
      "Classifier Accuracy: 0.80\n"
     ]
    }
   ],
   "source": [
    "# Lets do a classification to see the results on the test sample\n",
    "\n",
    "# transform object's dataset to numeric values\n",
    "Aeq_training_unbiased.transform()\n",
    "Aeq_test.transform()\n",
    "\n",
    "# define classifier parameters\n",
    "classifier_type=\"Decision_Tree\"\n",
    "classifier_params={\n",
    "    \"random_state\":42, \n",
    "    \"min_samples_leaf\":10\n",
    "}\n",
    "class_attribute=Aeq_training_unbiased.parameters[\"class_attribute\"][\"name\"]\n",
    "\n",
    "# Train a classifier on training sample\n",
    "clf=tools.train_classifier(Aeq_training_unbiased.dataset,class_attribute,classifier_type,classifier_params)\n",
    "\n",
    "# Test classifier on test sample\n",
    "predicted_test_sample, _, _, _= tools.test_classifier(clf,Aeq_test.dataset,class_attribute,verbose=True)\n",
    "\n",
    "# Inverse transform the predicted test sample and the test sample\n",
    "Aeq_training_unbiased.inverse_transform()\n",
    "Aeq_test.inverse_transform()"
   ]
  },
  {
   "cell_type": "code",
   "execution_count": 18,
   "metadata": {
    "ExecuteTime": {
     "end_time": "2023-10-15T20:23:30.977919Z",
     "start_time": "2023-10-15T20:23:30.912705Z"
    }
   },
   "outputs": [
    {
     "name": "stdout",
     "output_type": "stream",
     "text": [
      "Probabilities:\n",
      "          Male    Female\n",
      ">50K  0.204854  0.221832\n",
      "\n",
      "Statistical/Demographic Parity:\n",
      "Outcome:  >50K\n",
      "      Male    Female\n",
      "Male   0.0 -0.016979\n",
      "\n",
      "\n"
     ]
    }
   ],
   "source": [
    "# define a new prediction test sample\n",
    "Aeq_predicted_test=Aeq_test.copy()\n",
    "Aeq_predicted_test.set_dataset(predicted_test_sample)\n",
    "Aeq_predicted_test.inverse_transform()\n",
    "\n",
    "# check statistical parity on new prediction test sample\n",
    "Aeq_predicted_test.statistical_parity(verbose=True)"
   ]
  },
  {
   "cell_type": "code",
   "execution_count": 19,
   "metadata": {
    "ExecuteTime": {
     "end_time": "2023-10-15T20:23:33.639826Z",
     "start_time": "2023-10-15T20:23:33.460329Z"
    }
   },
   "outputs": [
    {
     "name": "stdout",
     "output_type": "stream",
     "text": [
      "Confusion Metrics:  (Positive_outcome='>50K')\n",
      "          Female         Male\n",
      "TP    404.000000  1461.000000\n",
      "TN   3611.000000  6266.000000\n",
      "FP    671.000000   548.000000\n",
      "FN    160.000000  1532.000000\n",
      "TPR     0.716312     0.488139\n",
      "TNR     0.843298     0.919577\n",
      "FPR     0.156702     0.080423\n",
      "FNR     0.283688     0.511861\n",
      "FDR     0.624186     0.272773\n",
      "FOR     0.042429     0.196461\n",
      "PPV     0.375814     0.727227\n",
      "NPV     0.957571     0.803539\n",
      "RPP     0.221832     0.204854\n",
      "RNP     0.778168     0.795146\n",
      "ACC     0.828518     0.787907\n",
      "Equality of Opportunity:  (Positive_outcome='>50K')\n",
      "        Female  Male\n",
      "Male -0.228173   0.0\n",
      "\n",
      "Confusion Metrics:  (Positive_outcome='>50K')\n",
      "          Female         Male\n",
      "TP    404.000000  1461.000000\n",
      "TN   3611.000000  6266.000000\n",
      "FP    671.000000   548.000000\n",
      "FN    160.000000  1532.000000\n",
      "TPR     0.716312     0.488139\n",
      "TNR     0.843298     0.919577\n",
      "FPR     0.156702     0.080423\n",
      "FNR     0.283688     0.511861\n",
      "FDR     0.624186     0.272773\n",
      "FOR     0.042429     0.196461\n",
      "PPV     0.375814     0.727227\n",
      "NPV     0.957571     0.803539\n",
      "RPP     0.221832     0.204854\n",
      "RNP     0.778168     0.795146\n",
      "ACC     0.828518     0.787907\n",
      "Equal Odds:  (Positive_outcome='>50K')\n",
      "        Female  Male\n",
      "Male -0.075947   0.0\n",
      "\n"
     ]
    }
   ],
   "source": [
    "prediction=np.array(Aeq_predicted_test.dataset[class_attribute])\n",
    "\n",
    "# check equal opportunity / equal odds on test sample\n",
    "Aeq_test.equal_opportunity(prediction,verbose=True)\n",
    "Aeq_test.equal_odds(prediction,verbose=True)"
   ]
  },
  {
   "cell_type": "code",
   "execution_count": 20,
   "metadata": {
    "ExecuteTime": {
     "end_time": "2023-10-15T21:02:23.546980Z",
     "start_time": "2023-10-15T21:02:21.465224Z"
    }
   },
   "outputs": [
    {
     "name": "stdout",
     "output_type": "stream",
     "text": [
      "Aequitas Dataset parameters:\n",
      "{\n",
      "    \"class_attribute\": {\n",
      "        \"name\": \"income\",\n",
      "        \"positive_value\": \">50K\"\n",
      "    },\n",
      "    \"sensitive_attributes\": [\n",
      "        {\n",
      "            \"name\": \"gender\",\n",
      "            \"privileged_group\": \"Male\"\n",
      "        }\n",
      "    ],\n",
      "    \"Mitigation\": \"True\",\n",
      "    \"Mitigation_technique\": \"massaging\",\n",
      "    \"transform_dictionary\": {\n",
      "        \"income\": {\n",
      "            \"encode\": \"labeling\",\n",
      "            \"labels\": {\n",
      "                \"<=50K\": 0,\n",
      "                \">50K\": 1\n",
      "            }\n",
      "        },\n",
      "        \"gender\": {\n",
      "            \"encode\": \"labeling\",\n",
      "            \"labels\": {\n",
      "                \"Female\": 0,\n",
      "                \"Male\": 1\n",
      "            }\n",
      "        },\n",
      "        \"race\": {\n",
      "            \"encode\": \"labeling\",\n",
      "            \"labels\": {\n",
      "                \"Minority\": 0,\n",
      "                \"White\": 1\n",
      "            }\n",
      "        },\n",
      "        \"workclass\": {\n",
      "            \"encode\": \"labeling\",\n",
      "            \"scaling\": \"min-max\"\n",
      "        },\n",
      "        \"marital-status\": {\n",
      "            \"encode\": \"labeling\",\n",
      "            \"scaling\": \"min-max\"\n",
      "        },\n",
      "        \"occupation\": {\n",
      "            \"encode\": \"labeling\",\n",
      "            \"scaling\": \"min-max\"\n",
      "        },\n",
      "        \"relationship\": {\n",
      "            \"encode\": \"labeling\",\n",
      "            \"scaling\": \"min-max\"\n",
      "        },\n",
      "        \"native-country\": {\n",
      "            \"encode\": \"labeling\",\n",
      "            \"scaling\": \"min-max\"\n",
      "        },\n",
      "        \"age\": {\n",
      "            \"scaling\": \"standard\"\n",
      "        },\n",
      "        \"educational-num\": {\n",
      "            \"scaling\": \"min-max\"\n",
      "        },\n",
      "        \"capital-gain\": {\n",
      "            \"scaling\": \"standard\"\n",
      "        },\n",
      "        \"capital-loss\": {\n",
      "            \"scaling\": \"standard\"\n",
      "        },\n",
      "        \"hours-per-week\": {\n",
      "            \"scaling\": \"standard\"\n",
      "        }\n",
      "    },\n",
      "    \"statistical_parity\": {\n",
      "        \"probabilities\": {\n",
      "            \">50K\": {\n",
      "                \"Male\": 0.23775335989143281,\n",
      "                \"Female\": 0.23788119160937776\n",
      "            }\n",
      "        },\n",
      "        \"metric\": {\n",
      "            \"gender\": {\n",
      "                \">50K\": {\n",
      "                    \"Male\": {\n",
      "                        \"Male\": 0.0,\n",
      "                        \"Female\": -0.0001278317179449484\n",
      "                    }\n",
      "                },\n",
      "                \"metric\": -0.0001278317179449484\n",
      "            }\n",
      "        }\n",
      "    }\n",
      "}\n"
     ]
    }
   ],
   "source": [
    "#display parameters file\n",
    "Aeq_training_unbiased.display()\n",
    "\n",
    "#save paramenters file to remote server\n",
    "gw.save_element(Aeq_training_unbiased.parameters, element_key=\"dataset\", version=\"unbiased\")"
   ]
  },
  {
   "cell_type": "code",
   "execution_count": 21,
   "metadata": {
    "ExecuteTime": {
     "end_time": "2023-10-15T21:02:26.961070Z",
     "start_time": "2023-10-15T21:02:24.907602Z"
    }
   },
   "outputs": [
    {
     "name": "stdout",
     "output_type": "stream",
     "text": [
      "Aequitas Dataset parameters:\n",
      "{\n",
      "    \"class_attribute\": {\n",
      "        \"name\": \"income\",\n",
      "        \"positive_value\": \">50K\"\n",
      "    },\n",
      "    \"sensitive_attributes\": [\n",
      "        {\n",
      "            \"name\": \"gender\",\n",
      "            \"privileged_group\": \"Male\"\n",
      "        }\n",
      "    ],\n",
      "    \"Mitigation\": \"False\",\n",
      "    \"proportions\": {\n",
      "        \"income\": {\n",
      "            \"<=50K\": 0.7622042177308491,\n",
      "            \">50K\": 0.2377957822691509\n",
      "        },\n",
      "        \"gender\": {\n",
      "            \"Male\": 0.668138875076779,\n",
      "            \"Female\": 0.3318611249232209\n",
      "        }\n",
      "    },\n",
      "    \"outcome_distribution_by_group\": {\n",
      "        \"income/gender\": {\n",
      "            \"Female\": {\n",
      "                \"<=50K\": 0.8937951701040014,\n",
      "                \">50K\": 0.1062048298959986\n",
      "            },\n",
      "            \"Male\": {\n",
      "                \"<=50K\": 0.6968436720220637,\n",
      "                \">50K\": 0.30315632797793635\n",
      "            }\n",
      "        }\n",
      "    },\n",
      "    \"contingency\": [\n",
      "        {\n",
      "            \"attribute1\": \"gender\",\n",
      "            \"attribute2\": \"income\",\n",
      "            \"contingency_table\": {\n",
      "                \"<=50K\": {\n",
      "                    \"Female\": 10141,\n",
      "                    \"Male\": 15918\n",
      "                },\n",
      "                \">50K\": {\n",
      "                    \"Female\": 1205,\n",
      "                    \"Male\": 6925\n",
      "                }\n",
      "            },\n",
      "            \"chi2\": 1621.2936175115615,\n",
      "            \"cramers_v\": 0.2177007921226585,\n",
      "            \"p\": 0.0,\n",
      "            \"dof\": 1,\n",
      "            \"expected\": {\n",
      "                \"1\": 8647.969054374214,\n",
      "                \"2\": 2698.030945625786,\n",
      "                \"3\": 17411.030945625786,\n",
      "                \"4\": 5431.969054374214\n",
      "            }\n",
      "        }\n",
      "    ],\n",
      "    \"mutual_information\": [\n",
      "        {\n",
      "            \"attribute1\": \"gender\",\n",
      "            \"attribute2\": \"income\",\n",
      "            \"mi\": 0.026275534510675616\n",
      "        }\n",
      "    ],\n",
      "    \"statistical_parity\": {\n",
      "        \"probabilities\": {\n",
      "            \">50K\": {\n",
      "                \"Male\": 0.30315632797793635,\n",
      "                \"Female\": 0.1062048298959986\n",
      "            }\n",
      "        },\n",
      "        \"metric\": {\n",
      "            \"gender\": {\n",
      "                \">50K\": {\n",
      "                    \"Male\": {\n",
      "                        \"Male\": 0.0,\n",
      "                        \"Female\": 0.19695149808193774\n",
      "                    }\n",
      "                },\n",
      "                \"metric\": 0.19695149808193774\n",
      "            }\n",
      "        }\n",
      "    },\n",
      "    \"disparate_impact\": {\n",
      "        \"probabilities\": {\n",
      "            \">50K\": {\n",
      "                \"Male\": 0.30315632797793635,\n",
      "                \"Female\": 0.1062048298959986\n",
      "            }\n",
      "        },\n",
      "        \"metric\": {\n",
      "            \"gender\": {\n",
      "                \">50K\": {\n",
      "                    \"Male\": {\n",
      "                        \"Male\": 1.0,\n",
      "                        \"Female\": 0.35033024250025935\n",
      "                    }\n",
      "                },\n",
      "                \"metric\": 0.35033024250025935\n",
      "            }\n",
      "        }\n",
      "    },\n",
      "    \"transform_dictionary\": {\n",
      "        \"income\": {\n",
      "            \"encode\": \"labeling\",\n",
      "            \"labels\": {\n",
      "                \"<=50K\": 0,\n",
      "                \">50K\": 1\n",
      "            }\n",
      "        },\n",
      "        \"gender\": {\n",
      "            \"encode\": \"labeling\",\n",
      "            \"labels\": {\n",
      "                \"Female\": 0,\n",
      "                \"Male\": 1\n",
      "            }\n",
      "        },\n",
      "        \"race\": {\n",
      "            \"encode\": \"labeling\",\n",
      "            \"labels\": {\n",
      "                \"Minority\": 0,\n",
      "                \"White\": 1\n",
      "            }\n",
      "        },\n",
      "        \"workclass\": {\n",
      "            \"encode\": \"labeling\",\n",
      "            \"scaling\": \"min-max\"\n",
      "        },\n",
      "        \"marital-status\": {\n",
      "            \"encode\": \"labeling\",\n",
      "            \"scaling\": \"min-max\"\n",
      "        },\n",
      "        \"occupation\": {\n",
      "            \"encode\": \"labeling\",\n",
      "            \"scaling\": \"min-max\"\n",
      "        },\n",
      "        \"relationship\": {\n",
      "            \"encode\": \"labeling\",\n",
      "            \"scaling\": \"min-max\"\n",
      "        },\n",
      "        \"native-country\": {\n",
      "            \"encode\": \"labeling\",\n",
      "            \"scaling\": \"min-max\"\n",
      "        },\n",
      "        \"age\": {\n",
      "            \"scaling\": \"standard\"\n",
      "        },\n",
      "        \"educational-num\": {\n",
      "            \"scaling\": \"min-max\"\n",
      "        },\n",
      "        \"capital-gain\": {\n",
      "            \"scaling\": \"standard\"\n",
      "        },\n",
      "        \"capital-loss\": {\n",
      "            \"scaling\": \"standard\"\n",
      "        },\n",
      "        \"hours-per-week\": {\n",
      "            \"scaling\": \"standard\"\n",
      "        }\n",
      "    }\n",
      "}\n"
     ]
    }
   ],
   "source": [
    "#display parameters file\n",
    "Aeq_training.display()\n",
    "\n",
    "#save paramenters file to remote server\n",
    "gw.save_element(Aeq_training_unbiased.parameters, element_key=\"dataset\", version=\"training\")"
   ]
  },
  {
   "cell_type": "code",
   "execution_count": 22,
   "metadata": {
    "ExecuteTime": {
     "end_time": "2023-10-15T21:02:31.368507Z",
     "start_time": "2023-10-15T21:02:29.313660Z"
    }
   },
   "outputs": [
    {
     "name": "stdout",
     "output_type": "stream",
     "text": [
      "Aequitas Dataset parameters:\n",
      "{\n",
      "    \"class_attribute\": {\n",
      "        \"name\": \"income\",\n",
      "        \"positive_value\": \">50K\"\n",
      "    },\n",
      "    \"sensitive_attributes\": [\n",
      "        {\n",
      "            \"name\": \"gender\",\n",
      "            \"privileged_group\": \"Male\"\n",
      "        }\n",
      "    ],\n",
      "    \"Mitigation\": \"False\",\n",
      "    \"transform_dictionary\": {\n",
      "        \"income\": {\n",
      "            \"encode\": \"labeling\",\n",
      "            \"labels\": {\n",
      "                \"<=50K\": 0,\n",
      "                \">50K\": 1\n",
      "            }\n",
      "        },\n",
      "        \"gender\": {\n",
      "            \"encode\": \"labeling\",\n",
      "            \"labels\": {\n",
      "                \"Female\": 0,\n",
      "                \"Male\": 1\n",
      "            }\n",
      "        },\n",
      "        \"race\": {\n",
      "            \"encode\": \"labeling\",\n",
      "            \"labels\": {\n",
      "                \"Minority\": 0,\n",
      "                \"White\": 1\n",
      "            }\n",
      "        },\n",
      "        \"workclass\": {\n",
      "            \"encode\": \"labeling\",\n",
      "            \"scaling\": \"min-max\"\n",
      "        },\n",
      "        \"marital-status\": {\n",
      "            \"encode\": \"labeling\",\n",
      "            \"scaling\": \"min-max\"\n",
      "        },\n",
      "        \"occupation\": {\n",
      "            \"encode\": \"labeling\",\n",
      "            \"scaling\": \"min-max\"\n",
      "        },\n",
      "        \"relationship\": {\n",
      "            \"encode\": \"labeling\",\n",
      "            \"scaling\": \"min-max\"\n",
      "        },\n",
      "        \"native-country\": {\n",
      "            \"encode\": \"labeling\",\n",
      "            \"scaling\": \"min-max\"\n",
      "        },\n",
      "        \"age\": {\n",
      "            \"scaling\": \"standard\"\n",
      "        },\n",
      "        \"educational-num\": {\n",
      "            \"scaling\": \"min-max\"\n",
      "        },\n",
      "        \"capital-gain\": {\n",
      "            \"scaling\": \"standard\"\n",
      "        },\n",
      "        \"capital-loss\": {\n",
      "            \"scaling\": \"standard\"\n",
      "        },\n",
      "        \"hours-per-week\": {\n",
      "            \"scaling\": \"standard\"\n",
      "        }\n",
      "    },\n",
      "    \"equal_opportunity\": {\n",
      "        \"probabilities\": {\n",
      "            \"Female\": {\n",
      "                \"TP\": 404,\n",
      "                \"TN\": 3611,\n",
      "                \"FP\": 671,\n",
      "                \"FN\": 160,\n",
      "                \"TPR\": 0.7163120567375887,\n",
      "                \"TNR\": 0.8432975245212517,\n",
      "                \"FPR\": 0.15670247547874824,\n",
      "                \"FNR\": 0.28368794326241137,\n",
      "                \"FDR\": 0.6241860465116279,\n",
      "                \"FOR\": 0.042429063908777515,\n",
      "                \"PPV\": 0.3758139534883721,\n",
      "                \"NPV\": 0.9575709360912225,\n",
      "                \"RPP\": 0.2218324391250516,\n",
      "                \"RNP\": 0.7781675608749484,\n",
      "                \"ACC\": 0.828518365662402\n",
      "            },\n",
      "            \"Male\": {\n",
      "                \"TP\": 1461,\n",
      "                \"TN\": 6266,\n",
      "                \"FP\": 548,\n",
      "                \"FN\": 1532,\n",
      "                \"TPR\": 0.48813899097895086,\n",
      "                \"TNR\": 0.919577340769005,\n",
      "                \"FPR\": 0.08042265923099501,\n",
      "                \"FNR\": 0.5118610090210491,\n",
      "                \"FDR\": 0.27277252364360377,\n",
      "                \"FOR\": 0.19646063093100796,\n",
      "                \"PPV\": 0.7272274763563962,\n",
      "                \"NPV\": 0.803539369068992,\n",
      "                \"RPP\": 0.20485367594575304,\n",
      "                \"RNP\": 0.795146324054247,\n",
      "                \"ACC\": 0.7879065973284388\n",
      "            }\n",
      "        },\n",
      "        \"metric\": {\n",
      "            \"gender\": {\n",
      "                \"analysis\": {\n",
      "                    \"Male\": {\n",
      "                        \"Female\": -0.22817306575863783,\n",
      "                        \"Male\": 0.0\n",
      "                    }\n",
      "                },\n",
      "                \"metric\": -0.22817306575863783\n",
      "            }\n",
      "        }\n",
      "    },\n",
      "    \"equal_odds\": {\n",
      "        \"confusion_metrics\": {\n",
      "            \"Female\": {\n",
      "                \"TP\": 404,\n",
      "                \"TN\": 3611,\n",
      "                \"FP\": 671,\n",
      "                \"FN\": 160,\n",
      "                \"TPR\": 0.7163120567375887,\n",
      "                \"TNR\": 0.8432975245212517,\n",
      "                \"FPR\": 0.15670247547874824,\n",
      "                \"FNR\": 0.28368794326241137,\n",
      "                \"FDR\": 0.6241860465116279,\n",
      "                \"FOR\": 0.042429063908777515,\n",
      "                \"PPV\": 0.3758139534883721,\n",
      "                \"NPV\": 0.9575709360912225,\n",
      "                \"RPP\": 0.2218324391250516,\n",
      "                \"RNP\": 0.7781675608749484,\n",
      "                \"ACC\": 0.828518365662402\n",
      "            },\n",
      "            \"Male\": {\n",
      "                \"TP\": 1461,\n",
      "                \"TN\": 6266,\n",
      "                \"FP\": 548,\n",
      "                \"FN\": 1532,\n",
      "                \"TPR\": 0.48813899097895086,\n",
      "                \"TNR\": 0.919577340769005,\n",
      "                \"FPR\": 0.08042265923099501,\n",
      "                \"FNR\": 0.5118610090210491,\n",
      "                \"FDR\": 0.27277252364360377,\n",
      "                \"FOR\": 0.19646063093100796,\n",
      "                \"PPV\": 0.7272274763563962,\n",
      "                \"NPV\": 0.803539369068992,\n",
      "                \"RPP\": 0.20485367594575304,\n",
      "                \"RNP\": 0.795146324054247,\n",
      "                \"ACC\": 0.7879065973284388\n",
      "            }\n",
      "        },\n",
      "        \"metric\": {\n",
      "            \"gender\": {\n",
      "                \"analysis\": {\n",
      "                    \"Male\": {\n",
      "                        \"Female\": -0.07594662475544228,\n",
      "                        \"Male\": 0.0\n",
      "                    }\n",
      "                },\n",
      "                \"metric\": -0.07594662475544228\n",
      "            }\n",
      "        }\n",
      "    }\n",
      "}\n"
     ]
    }
   ],
   "source": [
    "#display parameters file\n",
    "Aeq_test.display()\n",
    "\n",
    "#save paramenters file to remote server\n",
    "gw.save_element(Aeq_training_unbiased.parameters, element_key=\"dataset\", version=\"test\")"
   ]
  },
  {
   "cell_type": "code",
   "execution_count": null,
   "metadata": {
    "collapsed": false
   },
   "outputs": [],
   "source": []
  }
 ],
 "metadata": {
  "kernelspec": {
   "display_name": "Python 3.11.5 ('aequitas')",
   "language": "python",
   "name": "python3"
  },
  "language_info": {
   "codemirror_mode": {
    "name": "ipython",
    "version": 3
   },
   "file_extension": ".py",
   "mimetype": "text/x-python",
   "name": "python",
   "nbconvert_exporter": "python",
   "pygments_lexer": "ipython3",
   "version": "3.11.5"
  },
  "orig_nbformat": 4,
  "vscode": {
   "interpreter": {
    "hash": "aafc4311810ab362ec8b20f1ad7cefee81be5411161712b32fbd26f1f27127c5"
   }
  }
 },
 "nbformat": 4,
 "nbformat_minor": 2
}
